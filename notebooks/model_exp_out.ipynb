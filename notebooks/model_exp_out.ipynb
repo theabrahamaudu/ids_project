{
 "cells": [
  {
   "attachments": {},
   "cell_type": "markdown",
   "id": "f76797c0",
   "metadata": {
    "papermill": {
     "duration": 0.00898,
     "end_time": "2023-06-16T17:06:32.744863",
     "exception": false,
     "start_time": "2023-06-16T17:06:32.735883",
     "status": "completed"
    },
    "tags": []
   },
   "source": [
    "### Import Libraries"
   ]
  },
  {
   "cell_type": "code",
   "execution_count": 1,
   "id": "cb7e8a15",
   "metadata": {
    "execution": {
     "iopub.execute_input": "2023-06-16T17:06:32.762868Z",
     "iopub.status.busy": "2023-06-16T17:06:32.760861Z",
     "iopub.status.idle": "2023-06-16T17:06:36.146858Z",
     "shell.execute_reply": "2023-06-16T17:06:36.145856Z"
    },
    "papermill": {
     "duration": 3.399,
     "end_time": "2023-06-16T17:06:36.150861",
     "exception": false,
     "start_time": "2023-06-16T17:06:32.751861",
     "status": "completed"
    },
    "tags": []
   },
   "outputs": [],
   "source": [
    "# General\n",
    "import pandas as pd\n",
    "import numpy as np\n",
    "import joblib\n",
    "import json\n",
    "\n",
    "# Model and Evaluation\n",
    "from sklearn.ensemble import GradientBoostingClassifier\n",
    "from sklearn.metrics import f1_score, classification_report\n",
    "\n",
    "# # DVC stuff\n",
    "# from dvclive import Live"
   ]
  },
  {
   "attachments": {},
   "cell_type": "markdown",
   "id": "82d3178e",
   "metadata": {
    "papermill": {
     "duration": 0.005996,
     "end_time": "2023-06-16T17:06:36.165860",
     "exception": false,
     "start_time": "2023-06-16T17:06:36.159864",
     "status": "completed"
    },
    "tags": []
   },
   "source": [
    "#### Setup Parameters"
   ]
  },
  {
   "cell_type": "code",
   "execution_count": 2,
   "id": "11d452f5",
   "metadata": {
    "execution": {
     "iopub.execute_input": "2023-06-16T17:06:36.181861Z",
     "iopub.status.busy": "2023-06-16T17:06:36.180863Z",
     "iopub.status.idle": "2023-06-16T17:06:36.193860Z",
     "shell.execute_reply": "2023-06-16T17:06:36.191862Z"
    },
    "papermill": {
     "duration": 0.025997,
     "end_time": "2023-06-16T17:06:36.197858",
     "exception": false,
     "start_time": "2023-06-16T17:06:36.171861",
     "status": "completed"
    },
    "tags": []
   },
   "outputs": [],
   "source": [
    "# Data\n",
    "x_train_path = './notebooks/X_train_scaled.csv'\n",
    "x_test_path = './notebooks/X_test_scaled.csv'\n",
    "y_train_path = './notebooks/y_train.csv'\n",
    "y_test_path = './notebooks/y_test.csv'\n",
    "\n",
    "# gbc Model\n",
    "random_state = 42\n",
    "lr = 0.01\n",
    "n_estimators = 100\n",
    "max_depth = 5\n",
    "\n",
    "models_dir = './notebooks/'\n",
    "model_fname  = 'model.joblib'\n",
    "\n",
    "train_params = {'n_estimators': n_estimators,\n",
    "                'max_depth': max_depth,\n",
    "                'lr': lr}"
   ]
  },
  {
   "attachments": {},
   "cell_type": "markdown",
   "id": "89076e20",
   "metadata": {
    "papermill": {
     "duration": 0.009012,
     "end_time": "2023-06-16T17:06:36.211869",
     "exception": false,
     "start_time": "2023-06-16T17:06:36.202857",
     "status": "completed"
    },
    "tags": []
   },
   "source": [
    "#### Load Preprocessed Data"
   ]
  },
  {
   "cell_type": "code",
   "execution_count": 3,
   "id": "b373ec2b",
   "metadata": {
    "execution": {
     "iopub.execute_input": "2023-06-16T17:06:36.227861Z",
     "iopub.status.busy": "2023-06-16T17:06:36.226859Z",
     "iopub.status.idle": "2023-06-16T17:06:38.202875Z",
     "shell.execute_reply": "2023-06-16T17:06:38.199862Z"
    },
    "papermill": {
     "duration": 1.990002,
     "end_time": "2023-06-16T17:06:38.206861",
     "exception": false,
     "start_time": "2023-06-16T17:06:36.216859",
     "status": "completed"
    },
    "tags": []
   },
   "outputs": [],
   "source": [
    "# Load data\n",
    "X_train_scaled = np.genfromtxt(x_train_path, delimiter=',')\n",
    "X_test_scaled = np.genfromtxt(x_test_path, delimiter=',')\n",
    "y_train = np.genfromtxt(y_train_path, delimiter=',')\n",
    "y_test = np.genfromtxt(y_test_path, delimiter=',')"
   ]
  },
  {
   "attachments": {},
   "cell_type": "markdown",
   "id": "a469726b",
   "metadata": {
    "papermill": {
     "duration": 0.009003,
     "end_time": "2023-06-16T17:06:38.221870",
     "exception": false,
     "start_time": "2023-06-16T17:06:38.212867",
     "status": "completed"
    },
    "tags": []
   },
   "source": [
    "#### Build Models"
   ]
  },
  {
   "cell_type": "code",
   "execution_count": 4,
   "id": "eb5ce344",
   "metadata": {
    "execution": {
     "iopub.execute_input": "2023-06-16T17:06:38.239866Z",
     "iopub.status.busy": "2023-06-16T17:06:38.238870Z",
     "iopub.status.idle": "2023-06-16T17:09:35.624861Z",
     "shell.execute_reply": "2023-06-16T17:09:35.622861Z"
    },
    "papermill": {
     "duration": 177.406005,
     "end_time": "2023-06-16T17:09:35.633863",
     "exception": false,
     "start_time": "2023-06-16T17:06:38.227858",
     "status": "completed"
    },
    "tags": []
   },
   "outputs": [
    {
     "data": {
      "text/plain": [
       "['./notebooks/model.joblib']"
      ]
     },
     "execution_count": 4,
     "metadata": {},
     "output_type": "execute_result"
    }
   ],
   "source": [
    "# Initialize Model\n",
    "gbc = GradientBoostingClassifier(random_state=random_state,\n",
    "                                 learning_rate=lr,\n",
    "                                 n_estimators=n_estimators,\n",
    "                                 max_depth=max_depth)\n",
    "\n",
    "# Train model\n",
    "gbc.fit(X_train_scaled, y_train)\n",
    "\n",
    "# Save model\n",
    "joblib.dump(gbc, models_dir+model_fname)\n",
    "\n"
   ]
  },
  {
   "attachments": {},
   "cell_type": "markdown",
   "id": "66ee5499",
   "metadata": {
    "papermill": {
     "duration": 0.011994,
     "end_time": "2023-06-16T17:09:35.658861",
     "exception": false,
     "start_time": "2023-06-16T17:09:35.646867",
     "status": "completed"
    },
    "tags": []
   },
   "source": [
    "#### Evaluate Models"
   ]
  },
  {
   "cell_type": "code",
   "execution_count": 5,
   "id": "1383201a",
   "metadata": {
    "execution": {
     "iopub.execute_input": "2023-06-16T17:09:35.689862Z",
     "iopub.status.busy": "2023-06-16T17:09:35.688864Z",
     "iopub.status.idle": "2023-06-16T17:09:35.717866Z",
     "shell.execute_reply": "2023-06-16T17:09:35.715864Z"
    },
    "papermill": {
     "duration": 0.056,
     "end_time": "2023-06-16T17:09:35.723863",
     "exception": false,
     "start_time": "2023-06-16T17:09:35.667863",
     "status": "completed"
    },
    "tags": []
   },
   "outputs": [],
   "source": [
    "# Classification Report for each type of attack\n",
    "def print_f1_scores(y_true, y_pred):\n",
    "    report = classification_report(y_true, y_pred, output_dict=True)\n",
    "\n",
    "    for class_label, metric in report.items():\n",
    "        try:\n",
    "            f1_score_float = metric['f1-score']\n",
    "            print(f\"Class {class_label}: F1-score = {round(f1_score_float, 3)}\")\n",
    "        except:\n",
    "            pass"
   ]
  },
  {
   "cell_type": "code",
   "execution_count": 6,
   "id": "b2a8bc75",
   "metadata": {
    "execution": {
     "iopub.execute_input": "2023-06-16T17:09:35.829868Z",
     "iopub.status.busy": "2023-06-16T17:09:35.828861Z",
     "iopub.status.idle": "2023-06-16T17:09:36.072859Z",
     "shell.execute_reply": "2023-06-16T17:09:36.071859Z"
    },
    "papermill": {
     "duration": 0.338994,
     "end_time": "2023-06-16T17:09:36.076858",
     "exception": false,
     "start_time": "2023-06-16T17:09:35.737864",
     "status": "completed"
    },
    "tags": []
   },
   "outputs": [
    {
     "name": "stdout",
     "output_type": "stream",
     "text": [
      "Class 0.0: F1-score = 0.997\n",
      "Class 1.0: F1-score = 1.0\n",
      "Class 2.0: F1-score = 1.0\n",
      "Class 3.0: F1-score = 1.0\n",
      "Class 4.0: F1-score = 1.0\n",
      "Class 5.0: F1-score = 0.965\n",
      "Class 6.0: F1-score = 1.0\n",
      "Class 7.0: F1-score = 0.998\n",
      "Class 8.0: F1-score = 1.0\n",
      "Class 9.0: F1-score = 0.988\n",
      "Class 10.0: F1-score = 0.917\n",
      "Class macro avg: F1-score = 0.988\n",
      "Class weighted avg: F1-score = 0.997\n"
     ]
    }
   ],
   "source": [
    "# Make predictions\n",
    "preds = gbc.predict(X_test_scaled)\n",
    "\n",
    "# Evaluate model (F1 Score)\n",
    "f1_score_weighted = round(f1_score(y_test, preds, average='weighted'), 3)\n",
    "f1_score_macro = round(f1_score(y_test, preds, average='macro'), 3)\n",
    "print_f1_scores(y_test, preds)"
   ]
  },
  {
   "cell_type": "code",
   "execution_count": 7,
   "id": "460bd72a",
   "metadata": {
    "execution": {
     "iopub.execute_input": "2023-06-16T17:09:36.092859Z",
     "iopub.status.busy": "2023-06-16T17:09:36.092859Z",
     "iopub.status.idle": "2023-06-16T17:09:36.118860Z",
     "shell.execute_reply": "2023-06-16T17:09:36.116861Z"
    },
    "papermill": {
     "duration": 0.038002,
     "end_time": "2023-06-16T17:09:36.122861",
     "exception": false,
     "start_time": "2023-06-16T17:09:36.084859",
     "status": "completed"
    },
    "tags": []
   },
   "outputs": [],
   "source": [
    "# Save metrics\n",
    "metrics = {\n",
    "    'F1-Score_weighted': f1_score_weighted,\n",
    "    'F1-Score_macro': f1_score_macro\n",
    "    }\n",
    "\n",
    "json.dump(\n",
    "    obj=metrics,\n",
    "    fp=open('./notebooks/metrics.json', 'w'),\n",
    "    indent = 4,\n",
    "    sort_keys = True\n",
    "    )\n",
    "\n"
   ]
  },
  {
   "cell_type": "code",
   "execution_count": 8,
   "id": "85730f5d",
   "metadata": {
    "execution": {
     "iopub.execute_input": "2023-06-16T17:09:36.140861Z",
     "iopub.status.busy": "2023-06-16T17:09:36.139860Z",
     "iopub.status.idle": "2023-06-16T17:09:36.166861Z",
     "shell.execute_reply": "2023-06-16T17:09:36.163868Z"
    },
    "papermill": {
     "duration": 0.039002,
     "end_time": "2023-06-16T17:09:36.170863",
     "exception": false,
     "start_time": "2023-06-16T17:09:36.131861",
     "status": "completed"
    },
    "tags": []
   },
   "outputs": [
    {
     "data": {
      "text/plain": [
       "'\\n$ dvc run -n run_model_exp -d notebooks/X_train_scaled.csv -d notebooks/X_test_scaled.csv -d notebooks/y_train.csv -d notebooks/y_test.csv -d notebooks/model_exp.ipynb -o notebooks/model.joblib -M notebooks/metrics.json papermill notebooks/model_exp.ipynb notebooks/model_exp_out.ipynb\\n'"
      ]
     },
     "execution_count": 8,
     "metadata": {},
     "output_type": "execute_result"
    }
   ],
   "source": [
    "# DVC command to run pipeline\n",
    "\"\"\"\n",
    "$ dvc run -n run_model_exp -d notebooks/X_train_scaled.csv -d notebooks/X_test_scaled.csv -d notebooks/y_train.csv -d notebooks/y_test.csv -d notebooks/model_exp.ipynb -o notebooks/model.joblib -M notebooks/metrics.json papermill notebooks/model_exp.ipynb notebooks/model_exp_out.ipynb\n",
    "\"\"\""
   ]
  },
  {
   "cell_type": "code",
   "execution_count": null,
   "id": "e04b6548",
   "metadata": {
    "papermill": {
     "duration": 0.008999,
     "end_time": "2023-06-16T17:09:36.185860",
     "exception": false,
     "start_time": "2023-06-16T17:09:36.176861",
     "status": "completed"
    },
    "tags": []
   },
   "outputs": [],
   "source": []
  }
 ],
 "metadata": {
  "kernelspec": {
   "display_name": "venv",
   "language": "python",
   "name": "python3"
  },
  "language_info": {
   "codemirror_mode": {
    "name": "ipython",
    "version": 3
   },
   "file_extension": ".py",
   "mimetype": "text/x-python",
   "name": "python",
   "nbconvert_exporter": "python",
   "pygments_lexer": "ipython3",
   "version": "3.10.7"
  },
  "papermill": {
   "default_parameters": {},
   "duration": 194.19108,
   "end_time": "2023-06-16T17:09:37.102862",
   "environment_variables": {},
   "exception": null,
   "input_path": "notebooks/model_exp.ipynb",
   "output_path": "notebooks/model_exp_out.ipynb",
   "parameters": {},
   "start_time": "2023-06-16T17:06:22.911782",
   "version": "2.4.0"
  }
 },
 "nbformat": 4,
 "nbformat_minor": 5
}