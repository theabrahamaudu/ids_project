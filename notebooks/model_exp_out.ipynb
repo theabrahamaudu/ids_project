{
 "cells": [
  {
   "attachments": {},
   "cell_type": "markdown",
   "id": "02a57f94",
   "metadata": {
    "papermill": {
     "duration": 0.007978,
     "end_time": "2023-06-16T18:06:30.013310",
     "exception": false,
     "start_time": "2023-06-16T18:06:30.005332",
     "status": "completed"
    },
    "tags": []
   },
   "source": [
    "### Import Libraries"
   ]
  },
  {
   "cell_type": "code",
   "execution_count": 1,
   "id": "e20d4d6b",
   "metadata": {
    "execution": {
     "iopub.execute_input": "2023-06-16T18:06:30.032311Z",
     "iopub.status.busy": "2023-06-16T18:06:30.031309Z",
     "iopub.status.idle": "2023-06-16T18:06:33.572284Z",
     "shell.execute_reply": "2023-06-16T18:06:33.570283Z"
    },
    "papermill": {
     "duration": 3.557976,
     "end_time": "2023-06-16T18:06:33.578285",
     "exception": false,
     "start_time": "2023-06-16T18:06:30.020309",
     "status": "completed"
    },
    "tags": []
   },
   "outputs": [],
   "source": [
    "# General\n",
    "import pandas as pd\n",
    "import numpy as np\n",
    "import joblib\n",
    "import json\n",
    "import yaml\n",
    "\n",
    "# Model and Evaluation\n",
    "from sklearn.ensemble import GradientBoostingClassifier\n",
    "from sklearn.metrics import f1_score, classification_report\n",
    "\n",
    "# # DVC stuff\n",
    "# from dvclive import Live\n",
    "\n",
    "# import os\n",
    "# os.chdir('..')"
   ]
  },
  {
   "cell_type": "code",
   "execution_count": 2,
   "id": "ea53ff55",
   "metadata": {
    "execution": {
     "iopub.execute_input": "2023-06-16T18:06:33.600285Z",
     "iopub.status.busy": "2023-06-16T18:06:33.598285Z",
     "iopub.status.idle": "2023-06-16T18:06:33.634282Z",
     "shell.execute_reply": "2023-06-16T18:06:33.632283Z"
    },
    "papermill": {
     "duration": 0.051998,
     "end_time": "2023-06-16T18:06:33.637281",
     "exception": false,
     "start_time": "2023-06-16T18:06:33.585283",
     "status": "completed"
    },
    "tags": []
   },
   "outputs": [
    {
     "data": {
      "text/plain": [
       "'C:\\\\Users\\\\Abraham Audu\\\\Documents\\\\BizDocs Files\\\\THE THREE\\\\Intrusion Detection System\\\\ids_project'"
      ]
     },
     "execution_count": 2,
     "metadata": {},
     "output_type": "execute_result"
    }
   ],
   "source": [
    "%pwd"
   ]
  },
  {
   "attachments": {},
   "cell_type": "markdown",
   "id": "8e8f5763",
   "metadata": {
    "papermill": {
     "duration": 0.013001,
     "end_time": "2023-06-16T18:06:33.660286",
     "exception": false,
     "start_time": "2023-06-16T18:06:33.647285",
     "status": "completed"
    },
    "tags": []
   },
   "source": [
    "#### Setup Parameters"
   ]
  },
  {
   "cell_type": "code",
   "execution_count": 3,
   "id": "4cb9a6c2",
   "metadata": {
    "execution": {
     "iopub.execute_input": "2023-06-16T18:06:33.694286Z",
     "iopub.status.busy": "2023-06-16T18:06:33.691293Z",
     "iopub.status.idle": "2023-06-16T18:06:33.729286Z",
     "shell.execute_reply": "2023-06-16T18:06:33.725288Z"
    },
    "papermill": {
     "duration": 0.066997,
     "end_time": "2023-06-16T18:06:33.734285",
     "exception": false,
     "start_time": "2023-06-16T18:06:33.667288",
     "status": "completed"
    },
    "tags": []
   },
   "outputs": [],
   "source": [
    "# Data\n",
    "x_train_path = './notebooks/X_train_scaled.csv'\n",
    "x_test_path = './notebooks/X_test_scaled.csv'\n",
    "y_train_path = './notebooks/y_train.csv'\n",
    "y_test_path = './notebooks/y_test.csv'\n",
    "\n",
    "# load params YAML file\n",
    "params_file_path = 'params.yaml'\n",
    "with open(params_file_path, 'r') as file:\n",
    "    params = yaml.safe_load(file)\n",
    "\n",
    "random_state = params['train']['params']['random_state']\n",
    "lr = params['train']['params']['lr']\n",
    "n_estimators = params['train']['params']['n_estimators']\n",
    "max_depth = params['train']['params']['max_depth']\n",
    "\n",
    "# gbc Model\n",
    "# random_state = 42\n",
    "# lr = 0.01\n",
    "# n_estimators = 100\n",
    "# max_depth = 5\n",
    "\n",
    "models_dir = './notebooks/'\n",
    "model_fname  = 'model.joblib'\n",
    "\n",
    "train_params = {'n_estimators': n_estimators,\n",
    "                'max_depth': max_depth,\n",
    "                'lr': lr}"
   ]
  },
  {
   "attachments": {},
   "cell_type": "markdown",
   "id": "9ab76fd3",
   "metadata": {
    "papermill": {
     "duration": 0.011998,
     "end_time": "2023-06-16T18:06:33.759285",
     "exception": false,
     "start_time": "2023-06-16T18:06:33.747287",
     "status": "completed"
    },
    "tags": []
   },
   "source": [
    "#### Load Preprocessed Data"
   ]
  },
  {
   "cell_type": "code",
   "execution_count": 4,
   "id": "939e2246",
   "metadata": {
    "execution": {
     "iopub.execute_input": "2023-06-16T18:06:33.778282Z",
     "iopub.status.busy": "2023-06-16T18:06:33.777284Z",
     "iopub.status.idle": "2023-06-16T18:06:35.777280Z",
     "shell.execute_reply": "2023-06-16T18:06:35.775282Z"
    },
    "papermill": {
     "duration": 2.014,
     "end_time": "2023-06-16T18:06:35.780281",
     "exception": false,
     "start_time": "2023-06-16T18:06:33.766281",
     "status": "completed"
    },
    "tags": []
   },
   "outputs": [],
   "source": [
    "# Load data\n",
    "X_train_scaled = np.genfromtxt(x_train_path, delimiter=',')\n",
    "X_test_scaled = np.genfromtxt(x_test_path, delimiter=',')\n",
    "y_train = np.genfromtxt(y_train_path, delimiter=',')\n",
    "y_test = np.genfromtxt(y_test_path, delimiter=',')"
   ]
  },
  {
   "attachments": {},
   "cell_type": "markdown",
   "id": "f441df85",
   "metadata": {
    "papermill": {
     "duration": 0.007982,
     "end_time": "2023-06-16T18:06:35.795281",
     "exception": false,
     "start_time": "2023-06-16T18:06:35.787299",
     "status": "completed"
    },
    "tags": []
   },
   "source": [
    "#### Build Models"
   ]
  },
  {
   "cell_type": "code",
   "execution_count": 5,
   "id": "59b661d4",
   "metadata": {
    "execution": {
     "iopub.execute_input": "2023-06-16T18:06:35.813282Z",
     "iopub.status.busy": "2023-06-16T18:06:35.812283Z",
     "iopub.status.idle": "2023-06-16T18:10:31.460349Z",
     "shell.execute_reply": "2023-06-16T18:10:31.457350Z"
    },
    "papermill": {
     "duration": 235.67407,
     "end_time": "2023-06-16T18:10:31.475352",
     "exception": false,
     "start_time": "2023-06-16T18:06:35.801282",
     "status": "completed"
    },
    "tags": []
   },
   "outputs": [
    {
     "data": {
      "text/plain": [
       "['./notebooks/model.joblib']"
      ]
     },
     "execution_count": 5,
     "metadata": {},
     "output_type": "execute_result"
    }
   ],
   "source": [
    "# Initialize Model\n",
    "gbc = GradientBoostingClassifier(random_state=random_state,\n",
    "                                 learning_rate=lr,\n",
    "                                 n_estimators=n_estimators,\n",
    "                                 max_depth=max_depth)\n",
    "\n",
    "# Train model\n",
    "gbc.fit(X_train_scaled, y_train)\n",
    "\n",
    "# Save model\n",
    "joblib.dump(gbc, models_dir+model_fname)\n",
    "\n"
   ]
  },
  {
   "attachments": {},
   "cell_type": "markdown",
   "id": "71ad1b7f",
   "metadata": {
    "papermill": {
     "duration": 0.022,
     "end_time": "2023-06-16T18:10:31.610888",
     "exception": false,
     "start_time": "2023-06-16T18:10:31.588888",
     "status": "completed"
    },
    "tags": []
   },
   "source": [
    "#### Evaluate Models"
   ]
  },
  {
   "cell_type": "code",
   "execution_count": 6,
   "id": "b069fcff",
   "metadata": {
    "execution": {
     "iopub.execute_input": "2023-06-16T18:10:31.661430Z",
     "iopub.status.busy": "2023-06-16T18:10:31.659430Z",
     "iopub.status.idle": "2023-06-16T18:10:31.678429Z",
     "shell.execute_reply": "2023-06-16T18:10:31.676427Z"
    },
    "papermill": {
     "duration": 0.062549,
     "end_time": "2023-06-16T18:10:31.687436",
     "exception": false,
     "start_time": "2023-06-16T18:10:31.624887",
     "status": "completed"
    },
    "tags": []
   },
   "outputs": [],
   "source": [
    "# Classification Report for each type of attack\n",
    "def print_f1_scores(y_true, y_pred):\n",
    "    report = classification_report(y_true, y_pred, output_dict=True)\n",
    "\n",
    "    for class_label, metric in report.items():\n",
    "        try:\n",
    "            f1_score_float = metric['f1-score']\n",
    "            print(f\"Class {class_label}: F1-score = {round(f1_score_float, 3)}\")\n",
    "        except:\n",
    "            pass"
   ]
  },
  {
   "cell_type": "code",
   "execution_count": 7,
   "id": "9a7b1bfb",
   "metadata": {
    "execution": {
     "iopub.execute_input": "2023-06-16T18:10:31.725429Z",
     "iopub.status.busy": "2023-06-16T18:10:31.724431Z",
     "iopub.status.idle": "2023-06-16T18:10:32.124718Z",
     "shell.execute_reply": "2023-06-16T18:10:32.121721Z"
    },
    "papermill": {
     "duration": 0.424819,
     "end_time": "2023-06-16T18:10:32.130257",
     "exception": false,
     "start_time": "2023-06-16T18:10:31.705438",
     "status": "completed"
    },
    "tags": []
   },
   "outputs": [
    {
     "name": "stdout",
     "output_type": "stream",
     "text": [
      "Class 0.0: F1-score = 0.998\n",
      "Class 1.0: F1-score = 1.0\n",
      "Class 2.0: F1-score = 0.999\n",
      "Class 3.0: F1-score = 1.0\n",
      "Class 4.0: F1-score = 1.0\n",
      "Class 5.0: F1-score = 1.0\n",
      "Class 6.0: F1-score = 1.0\n",
      "Class 7.0: F1-score = 0.998\n",
      "Class 8.0: F1-score = 1.0\n",
      "Class 9.0: F1-score = 0.992\n",
      "Class 10.0: F1-score = 0.917\n",
      "Class macro avg: F1-score = 0.991\n",
      "Class weighted avg: F1-score = 0.998\n"
     ]
    }
   ],
   "source": [
    "# Make predictions\n",
    "preds = gbc.predict(X_test_scaled)\n",
    "\n",
    "# Evaluate model (F1 Score)\n",
    "f1_score_weighted = round(f1_score(y_test, preds, average='weighted'), 3)\n",
    "f1_score_macro = round(f1_score(y_test, preds, average='macro'), 3)\n",
    "print_f1_scores(y_test, preds)"
   ]
  },
  {
   "cell_type": "code",
   "execution_count": 8,
   "id": "0d07bb97",
   "metadata": {
    "execution": {
     "iopub.execute_input": "2023-06-16T18:10:32.170258Z",
     "iopub.status.busy": "2023-06-16T18:10:32.168257Z",
     "iopub.status.idle": "2023-06-16T18:10:32.187261Z",
     "shell.execute_reply": "2023-06-16T18:10:32.185257Z"
    },
    "papermill": {
     "duration": 0.045995,
     "end_time": "2023-06-16T18:10:32.192252",
     "exception": false,
     "start_time": "2023-06-16T18:10:32.146257",
     "status": "completed"
    },
    "tags": []
   },
   "outputs": [],
   "source": [
    "# Save metrics\n",
    "metrics = {\n",
    "    'F1-Score_weighted': f1_score_weighted,\n",
    "    'F1-Score_macro': f1_score_macro\n",
    "    }\n",
    "\n",
    "json.dump(\n",
    "    obj=metrics,\n",
    "    fp=open('./notebooks/metrics.json', 'w'),\n",
    "    indent = 4,\n",
    "    sort_keys = True\n",
    "    )\n",
    "\n"
   ]
  },
  {
   "cell_type": "code",
   "execution_count": 9,
   "id": "0a0b81b8",
   "metadata": {
    "execution": {
     "iopub.execute_input": "2023-06-16T18:10:32.218415Z",
     "iopub.status.busy": "2023-06-16T18:10:32.215867Z",
     "iopub.status.idle": "2023-06-16T18:10:32.235576Z",
     "shell.execute_reply": "2023-06-16T18:10:32.231424Z"
    },
    "papermill": {
     "duration": 0.036555,
     "end_time": "2023-06-16T18:10:32.241415",
     "exception": false,
     "start_time": "2023-06-16T18:10:32.204860",
     "status": "completed"
    },
    "tags": []
   },
   "outputs": [
    {
     "data": {
      "text/plain": [
       "'\\n$ dvc run -n run_model_exp -d notebooks/X_train_scaled.csv -d notebooks/X_test_scaled.csv -d notebooks/y_train.csv -d notebooks/y_test.csv -d notebooks/model_exp.ipynb -o notebooks/model.joblib -M notebooks/metrics.json papermill notebooks/model_exp.ipynb notebooks/model_exp_out.ipynb\\n'"
      ]
     },
     "execution_count": 9,
     "metadata": {},
     "output_type": "execute_result"
    }
   ],
   "source": [
    "# DVC command to run pipeline\n",
    "\"\"\"\n",
    "$ dvc run -n run_model_exp -d notebooks/X_train_scaled.csv -d notebooks/X_test_scaled.csv -d notebooks/y_train.csv -d notebooks/y_test.csv -d notebooks/model_exp.ipynb -o notebooks/model.joblib -M notebooks/metrics.json papermill notebooks/model_exp.ipynb notebooks/model_exp_out.ipynb\n",
    "\"\"\""
   ]
  },
  {
   "cell_type": "code",
   "execution_count": null,
   "id": "aea44b3f",
   "metadata": {
    "papermill": {
     "duration": 0.015,
     "end_time": "2023-06-16T18:10:32.271415",
     "exception": false,
     "start_time": "2023-06-16T18:10:32.256415",
     "status": "completed"
    },
    "tags": []
   },
   "outputs": [],
   "source": []
  }
 ],
 "metadata": {
  "kernelspec": {
   "display_name": "venv",
   "language": "python",
   "name": "python3"
  },
  "language_info": {
   "codemirror_mode": {
    "name": "ipython",
    "version": 3
   },
   "file_extension": ".py",
   "mimetype": "text/x-python",
   "name": "python",
   "nbconvert_exporter": "python",
   "pygments_lexer": "ipython3",
   "version": "3.10.7"
  },
  "papermill": {
   "default_parameters": {},
   "duration": 252.368728,
   "end_time": "2023-06-16T18:10:33.961039",
   "environment_variables": {},
   "exception": null,
   "input_path": "notebooks/model_exp.ipynb",
   "output_path": "notebooks/model_exp_out.ipynb",
   "parameters": {},
   "start_time": "2023-06-16T18:06:21.592311",
   "version": "2.4.0"
  }
 },
 "nbformat": 4,
 "nbformat_minor": 5
}