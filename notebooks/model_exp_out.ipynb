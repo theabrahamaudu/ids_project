{
 "cells": [
  {
   "attachments": {},
   "cell_type": "markdown",
   "id": "ada6ce9e",
   "metadata": {
    "papermill": {
     "duration": 0.007924,
     "end_time": "2023-06-16T23:37:09.779532",
     "exception": false,
     "start_time": "2023-06-16T23:37:09.771608",
     "status": "completed"
    },
    "tags": []
   },
   "source": [
    "### Import Libraries"
   ]
  },
  {
   "cell_type": "code",
   "execution_count": 1,
   "id": "f81042d4",
   "metadata": {
    "execution": {
     "iopub.execute_input": "2023-06-16T23:37:09.795555Z",
     "iopub.status.busy": "2023-06-16T23:37:09.794532Z",
     "iopub.status.idle": "2023-06-16T23:37:12.702006Z",
     "shell.execute_reply": "2023-06-16T23:37:12.699999Z"
    },
    "papermill": {
     "duration": 2.91846,
     "end_time": "2023-06-16T23:37:12.704998",
     "exception": false,
     "start_time": "2023-06-16T23:37:09.786538",
     "status": "completed"
    },
    "tags": []
   },
   "outputs": [],
   "source": [
    "# General\n",
    "import pandas as pd\n",
    "import numpy as np\n",
    "import joblib\n",
    "import json\n",
    "import yaml\n",
    "\n",
    "# Model and Evaluation\n",
    "from sklearn.ensemble import GradientBoostingClassifier\n",
    "from sklearn.metrics import f1_score, classification_report\n",
    "\n",
    "# # DVC stuff\n",
    "# from dvclive import Live\n",
    "\n",
    "# import os\n",
    "# os.chdir('..')"
   ]
  },
  {
   "cell_type": "code",
   "execution_count": 2,
   "id": "be4feaa9",
   "metadata": {
    "execution": {
     "iopub.execute_input": "2023-06-16T23:37:12.770006Z",
     "iopub.status.busy": "2023-06-16T23:37:12.769001Z",
     "iopub.status.idle": "2023-06-16T23:37:12.794001Z",
     "shell.execute_reply": "2023-06-16T23:37:12.793014Z"
    },
    "papermill": {
     "duration": 0.039995,
     "end_time": "2023-06-16T23:37:12.799001",
     "exception": false,
     "start_time": "2023-06-16T23:37:12.759006",
     "status": "completed"
    },
    "tags": []
   },
   "outputs": [
    {
     "data": {
      "text/plain": [
       "'C:\\\\Users\\\\Abraham Audu\\\\Documents\\\\BizDocs Files\\\\THE THREE\\\\Intrusion Detection System\\\\ids_project'"
      ]
     },
     "execution_count": 2,
     "metadata": {},
     "output_type": "execute_result"
    }
   ],
   "source": [
    "%pwd"
   ]
  },
  {
   "attachments": {},
   "cell_type": "markdown",
   "id": "1011766c",
   "metadata": {
    "papermill": {
     "duration": 0.00701,
     "end_time": "2023-06-16T23:37:12.813008",
     "exception": false,
     "start_time": "2023-06-16T23:37:12.805998",
     "status": "completed"
    },
    "tags": []
   },
   "source": [
    "#### Setup Parameters"
   ]
  },
  {
   "cell_type": "code",
   "execution_count": 3,
   "id": "e8938b24",
   "metadata": {
    "execution": {
     "iopub.execute_input": "2023-06-16T23:37:12.830005Z",
     "iopub.status.busy": "2023-06-16T23:37:12.829003Z",
     "iopub.status.idle": "2023-06-16T23:37:12.856005Z",
     "shell.execute_reply": "2023-06-16T23:37:12.854001Z"
    },
    "papermill": {
     "duration": 0.038,
     "end_time": "2023-06-16T23:37:12.859007",
     "exception": false,
     "start_time": "2023-06-16T23:37:12.821007",
     "status": "completed"
    },
    "tags": [
     "parameters"
    ]
   },
   "outputs": [],
   "source": [
    "# Data\n",
    "x_train_path = './notebooks/X_train_scaled.csv'\n",
    "x_test_path = './notebooks/X_test_scaled.csv'\n",
    "y_train_path = './notebooks/y_train.csv'\n",
    "y_test_path = './notebooks/y_test.csv'\n",
    "\n",
    "# load params YAML file\n",
    "params_file_path = 'params.yaml'\n",
    "with open(params_file_path, 'r') as file:\n",
    "    params = yaml.safe_load(file)\n",
    "\n",
    "# random_state = params['train']['params']['random_state']\n",
    "# lr = params['train']['params']['lr']\n",
    "# n_estimators = params['train']['params']['n_estimators']\n",
    "# max_depth = params['train']['params']['max_depth']\n",
    "\n",
    "# gbc Model\n",
    "random_state = 42\n",
    "lr = 0.01\n",
    "n_estimators = 76\n",
    "max_depth = 10\n",
    "\n",
    "models_dir = './notebooks/'\n",
    "model_fname  = 'model.joblib'\n",
    "\n",
    "train_params = {'n_estimators': n_estimators,\n",
    "                'max_depth': max_depth,\n",
    "                'lr': lr}"
   ]
  },
  {
   "cell_type": "code",
   "execution_count": 4,
   "id": "9995b929",
   "metadata": {
    "execution": {
     "iopub.execute_input": "2023-06-16T23:37:12.876998Z",
     "iopub.status.busy": "2023-06-16T23:37:12.876003Z",
     "iopub.status.idle": "2023-06-16T23:37:12.888003Z",
     "shell.execute_reply": "2023-06-16T23:37:12.886017Z"
    },
    "papermill": {
     "duration": 0.023994,
     "end_time": "2023-06-16T23:37:12.890998",
     "exception": false,
     "start_time": "2023-06-16T23:37:12.867004",
     "status": "completed"
    },
    "tags": [
     "injected-parameters"
    ]
   },
   "outputs": [],
   "source": [
    "# Parameters\n",
    "random_state = 42\n",
    "lr = 0.01\n",
    "n_estimators = 50\n",
    "max_depth = 5\n"
   ]
  },
  {
   "attachments": {},
   "cell_type": "markdown",
   "id": "d93b1d59",
   "metadata": {
    "papermill": {
     "duration": 0.009001,
     "end_time": "2023-06-16T23:37:12.904998",
     "exception": false,
     "start_time": "2023-06-16T23:37:12.895997",
     "status": "completed"
    },
    "tags": []
   },
   "source": [
    "#### Load Preprocessed Data"
   ]
  },
  {
   "cell_type": "code",
   "execution_count": 5,
   "id": "04b87caf",
   "metadata": {
    "execution": {
     "iopub.execute_input": "2023-06-16T23:37:12.922006Z",
     "iopub.status.busy": "2023-06-16T23:37:12.920999Z",
     "iopub.status.idle": "2023-06-16T23:37:14.474167Z",
     "shell.execute_reply": "2023-06-16T23:37:14.472242Z"
    },
    "papermill": {
     "duration": 1.566195,
     "end_time": "2023-06-16T23:37:14.477192",
     "exception": false,
     "start_time": "2023-06-16T23:37:12.910997",
     "status": "completed"
    },
    "tags": []
   },
   "outputs": [],
   "source": [
    "# Load data\n",
    "X_train_scaled = np.genfromtxt(x_train_path, delimiter=',')\n",
    "X_test_scaled = np.genfromtxt(x_test_path, delimiter=',')\n",
    "y_train = np.genfromtxt(y_train_path, delimiter=',')\n",
    "y_test = np.genfromtxt(y_test_path, delimiter=',')"
   ]
  },
  {
   "attachments": {},
   "cell_type": "markdown",
   "id": "b1398087",
   "metadata": {
    "papermill": {
     "duration": 0.006,
     "end_time": "2023-06-16T23:37:14.490192",
     "exception": false,
     "start_time": "2023-06-16T23:37:14.484192",
     "status": "completed"
    },
    "tags": []
   },
   "source": [
    "#### Build Models"
   ]
  },
  {
   "cell_type": "code",
   "execution_count": 6,
   "id": "8aab4e67",
   "metadata": {
    "execution": {
     "iopub.execute_input": "2023-06-16T23:37:14.507191Z",
     "iopub.status.busy": "2023-06-16T23:37:14.506176Z",
     "iopub.status.idle": "2023-06-16T23:38:41.623168Z",
     "shell.execute_reply": "2023-06-16T23:38:41.622166Z"
    },
    "papermill": {
     "duration": 87.134999,
     "end_time": "2023-06-16T23:38:41.632169",
     "exception": false,
     "start_time": "2023-06-16T23:37:14.497170",
     "status": "completed"
    },
    "tags": []
   },
   "outputs": [
    {
     "data": {
      "text/plain": [
       "['./notebooks/model.joblib']"
      ]
     },
     "execution_count": 6,
     "metadata": {},
     "output_type": "execute_result"
    }
   ],
   "source": [
    "# Initialize Model\n",
    "gbc = GradientBoostingClassifier(random_state=random_state,\n",
    "                                 learning_rate=lr,\n",
    "                                 n_estimators=n_estimators,\n",
    "                                 max_depth=max_depth)\n",
    "\n",
    "# Train model\n",
    "gbc.fit(X_train_scaled, y_train)\n",
    "\n",
    "# Save model\n",
    "joblib.dump(gbc, models_dir+model_fname)\n",
    "\n"
   ]
  },
  {
   "attachments": {},
   "cell_type": "markdown",
   "id": "4fabae00",
   "metadata": {
    "papermill": {
     "duration": 0.00801,
     "end_time": "2023-06-16T23:38:41.647177",
     "exception": false,
     "start_time": "2023-06-16T23:38:41.639167",
     "status": "completed"
    },
    "tags": []
   },
   "source": [
    "#### Evaluate Models"
   ]
  },
  {
   "cell_type": "code",
   "execution_count": 7,
   "id": "3c356f12",
   "metadata": {
    "execution": {
     "iopub.execute_input": "2023-06-16T23:38:41.665170Z",
     "iopub.status.busy": "2023-06-16T23:38:41.664168Z",
     "iopub.status.idle": "2023-06-16T23:38:41.687542Z",
     "shell.execute_reply": "2023-06-16T23:38:41.685628Z"
    },
    "papermill": {
     "duration": 0.037374,
     "end_time": "2023-06-16T23:38:41.690565",
     "exception": false,
     "start_time": "2023-06-16T23:38:41.653191",
     "status": "completed"
    },
    "tags": []
   },
   "outputs": [],
   "source": [
    "# Classification Report for each type of attack\n",
    "def print_f1_scores(y_true, y_pred):\n",
    "    report = classification_report(y_true, y_pred, output_dict=True)\n",
    "\n",
    "    for class_label, metric in report.items():\n",
    "        try:\n",
    "            f1_score_float = metric['f1-score']\n",
    "            print(f\"Class {class_label}: F1-score = {round(f1_score_float, 3)}\")\n",
    "        except:\n",
    "            pass"
   ]
  },
  {
   "cell_type": "code",
   "execution_count": 8,
   "id": "8ab2f190",
   "metadata": {
    "execution": {
     "iopub.execute_input": "2023-06-16T23:38:41.750457Z",
     "iopub.status.busy": "2023-06-16T23:38:41.749477Z",
     "iopub.status.idle": "2023-06-16T23:38:41.874451Z",
     "shell.execute_reply": "2023-06-16T23:38:41.873475Z"
    },
    "papermill": {
     "duration": 0.180782,
     "end_time": "2023-06-16T23:38:41.878458",
     "exception": false,
     "start_time": "2023-06-16T23:38:41.697676",
     "status": "completed"
    },
    "tags": []
   },
   "outputs": [
    {
     "name": "stdout",
     "output_type": "stream",
     "text": [
      "Class 0.0: F1-score = 0.996\n",
      "Class 1.0: F1-score = 0.999\n",
      "Class 2.0: F1-score = 1.0\n",
      "Class 3.0: F1-score = 1.0\n",
      "Class 4.0: F1-score = 1.0\n",
      "Class 5.0: F1-score = 0.965\n",
      "Class 6.0: F1-score = 1.0\n",
      "Class 7.0: F1-score = 1.0\n",
      "Class 8.0: F1-score = 1.0\n",
      "Class 9.0: F1-score = 0.996\n",
      "Class 10.0: F1-score = 0.917\n",
      "Class macro avg: F1-score = 0.988\n",
      "Class weighted avg: F1-score = 0.997\n"
     ]
    }
   ],
   "source": [
    "# Make predictions\n",
    "preds = gbc.predict(X_test_scaled)\n",
    "\n",
    "# Evaluate model (F1 Score)\n",
    "f1_score_weighted = round(f1_score(y_test, preds, average='weighted'), 3)\n",
    "f1_score_macro = round(f1_score(y_test, preds, average='macro'), 3)\n",
    "print_f1_scores(y_test, preds)"
   ]
  },
  {
   "cell_type": "code",
   "execution_count": 9,
   "id": "8fc196d6",
   "metadata": {
    "execution": {
     "iopub.execute_input": "2023-06-16T23:38:41.897867Z",
     "iopub.status.busy": "2023-06-16T23:38:41.895461Z",
     "iopub.status.idle": "2023-06-16T23:38:41.920458Z",
     "shell.execute_reply": "2023-06-16T23:38:41.919121Z"
    },
    "papermill": {
     "duration": 0.038025,
     "end_time": "2023-06-16T23:38:41.923501",
     "exception": false,
     "start_time": "2023-06-16T23:38:41.885476",
     "status": "completed"
    },
    "tags": []
   },
   "outputs": [],
   "source": [
    "# Save metrics\n",
    "metrics = {\n",
    "    'F1-Score_weighted': f1_score_weighted,\n",
    "    'F1-Score_macro': f1_score_macro\n",
    "    }\n",
    "\n",
    "json.dump(\n",
    "    obj=metrics,\n",
    "    fp=open('./notebooks/metrics.json', 'w'),\n",
    "    indent = 4,\n",
    "    sort_keys = True\n",
    "    )\n",
    "\n"
   ]
  },
  {
   "cell_type": "code",
   "execution_count": 10,
   "id": "a6b20813",
   "metadata": {
    "execution": {
     "iopub.execute_input": "2023-06-16T23:38:41.942502Z",
     "iopub.status.busy": "2023-06-16T23:38:41.941503Z",
     "iopub.status.idle": "2023-06-16T23:38:41.966737Z",
     "shell.execute_reply": "2023-06-16T23:38:41.964808Z"
    },
    "papermill": {
     "duration": 0.037259,
     "end_time": "2023-06-16T23:38:41.969744",
     "exception": false,
     "start_time": "2023-06-16T23:38:41.932485",
     "status": "completed"
    },
    "tags": []
   },
   "outputs": [
    {
     "data": {
      "text/plain": [
       "'\\n$ dvc run -n run_model_exp -d notebooks/X_train_scaled.csv -d notebooks/X_test_scaled.csv -d notebooks/y_train.csv -d notebooks/y_test.csv -d notebooks/model_exp.ipynb -o notebooks/model.joblib -M notebooks/metrics.json papermill notebooks/model_exp.ipynb notebooks/model_exp_out.ipynb\\n'"
      ]
     },
     "execution_count": 10,
     "metadata": {},
     "output_type": "execute_result"
    }
   ],
   "source": [
    "# DVC command to run pipeline\n",
    "\"\"\"\n",
    "$ dvc run -n run_model_exp -d notebooks/X_train_scaled.csv -d notebooks/X_test_scaled.csv -d notebooks/y_train.csv -d notebooks/y_test.csv -d notebooks/model_exp.ipynb -o notebooks/model.joblib -M notebooks/metrics.json papermill notebooks/model_exp.ipynb notebooks/model_exp_out.ipynb\n",
    "\"\"\""
   ]
  },
  {
   "cell_type": "code",
   "execution_count": 11,
   "id": "9ef53b90",
   "metadata": {
    "execution": {
     "iopub.execute_input": "2023-06-16T23:38:41.987760Z",
     "iopub.status.busy": "2023-06-16T23:38:41.986759Z",
     "iopub.status.idle": "2023-06-16T23:38:41.998760Z",
     "shell.execute_reply": "2023-06-16T23:38:41.996766Z"
    },
    "papermill": {
     "duration": 0.026,
     "end_time": "2023-06-16T23:38:42.002744",
     "exception": false,
     "start_time": "2023-06-16T23:38:41.976744",
     "status": "completed"
    },
    "tags": []
   },
   "outputs": [
    {
     "data": {
      "text/plain": [
       "'\\nbase:\\n  project: ids_model\\n\\ntrain:\\n  models_dir:\\n  model_fname: model.joblib\\n  params:\\n    random_state: 42\\n    lr: 0.01\\n    n_estimators: 75\\n    max_depth: 10\\n\\n'"
      ]
     },
     "execution_count": 11,
     "metadata": {},
     "output_type": "execute_result"
    }
   ],
   "source": [
    "\"\"\"\n",
    "\n",
    "stages:\n",
    "  one_stage_pipeline:\n",
    "    cmd: papermill notebooks/model_exp.ipynb notebooks/model_exp_out.ipynb\n",
    "    deps:\n",
    "    - notebooks/X_test_scaled.csv\n",
    "    - notebooks/X_train_scaled.csv\n",
    "    - notebooks/model_exp.ipynb\n",
    "    - notebooks/y_test.csv\n",
    "    - notebooks/y_train.csv\n",
    "    params:\n",
    "    - base\n",
    "    - train\n",
    "    outs:\n",
    "    - notebooks/model.joblib\n",
    "    metrics:\n",
    "    - notebooks/metrics.json:\n",
    "        cache: false\n",
    "    \n",
    "    \"\"\"\n",
    "\n",
    "\n",
    "\n",
    "\"\"\"\n",
    "base:\n",
    "  project: ids_model\n",
    "\n",
    "train:\n",
    "  models_dir:\n",
    "  model_fname: model.joblib\n",
    "  params:\n",
    "    random_state: 42\n",
    "    lr: 0.01\n",
    "    n_estimators: 75\n",
    "    max_depth: 10\n",
    "\n",
    "\"\"\""
   ]
  }
 ],
 "metadata": {
  "kernelspec": {
   "display_name": "venv",
   "language": "python",
   "name": "python3"
  },
  "language_info": {
   "codemirror_mode": {
    "name": "ipython",
    "version": 3
   },
   "file_extension": ".py",
   "mimetype": "text/x-python",
   "name": "python",
   "nbconvert_exporter": "python",
   "pygments_lexer": "ipython3",
   "version": "3.10.7"
  },
  "papermill": {
   "default_parameters": {},
   "duration": 100.620206,
   "end_time": "2023-06-16T23:38:42.790723",
   "environment_variables": {},
   "exception": null,
   "input_path": "notebooks/model_exp.ipynb",
   "output_path": "notebooks/model_exp_out.ipynb",
   "parameters": {
    "lr": 0.01,
    "max_depth": 5,
    "n_estimators": 50,
    "random_state": 42
   },
   "start_time": "2023-06-16T23:37:02.170517",
   "version": "2.4.0"
  }
 },
 "nbformat": 4,
 "nbformat_minor": 5
}