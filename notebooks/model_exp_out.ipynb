{
 "cells": [
  {
   "attachments": {},
   "cell_type": "markdown",
   "id": "81b93cb4",
   "metadata": {
    "papermill": {
     "duration": 0.01,
     "end_time": "2023-06-16T21:07:55.499184",
     "exception": false,
     "start_time": "2023-06-16T21:07:55.489184",
     "status": "completed"
    },
    "tags": []
   },
   "source": [
    "### Import Libraries"
   ]
  },
  {
   "cell_type": "code",
   "execution_count": 1,
   "id": "8bdb4e9d",
   "metadata": {
    "execution": {
     "iopub.execute_input": "2023-06-16T21:07:55.520186Z",
     "iopub.status.busy": "2023-06-16T21:07:55.519185Z",
     "iopub.status.idle": "2023-06-16T21:07:59.209186Z",
     "shell.execute_reply": "2023-06-16T21:07:59.207183Z"
    },
    "papermill": {
     "duration": 3.706998,
     "end_time": "2023-06-16T21:07:59.213185",
     "exception": false,
     "start_time": "2023-06-16T21:07:55.506187",
     "status": "completed"
    },
    "tags": []
   },
   "outputs": [],
   "source": [
    "# General\n",
    "import pandas as pd\n",
    "import numpy as np\n",
    "import joblib\n",
    "import json\n",
    "import yaml\n",
    "\n",
    "# Model and Evaluation\n",
    "from sklearn.ensemble import GradientBoostingClassifier\n",
    "from sklearn.metrics import f1_score, classification_report\n",
    "\n",
    "# # DVC stuff\n",
    "# from dvclive import Live\n",
    "\n",
    "# import os\n",
    "# os.chdir('..')"
   ]
  },
  {
   "cell_type": "code",
   "execution_count": 2,
   "id": "b22171c8",
   "metadata": {
    "execution": {
     "iopub.execute_input": "2023-06-16T21:07:59.234184Z",
     "iopub.status.busy": "2023-06-16T21:07:59.233187Z",
     "iopub.status.idle": "2023-06-16T21:07:59.257189Z",
     "shell.execute_reply": "2023-06-16T21:07:59.253185Z"
    },
    "papermill": {
     "duration": 0.037994,
     "end_time": "2023-06-16T21:07:59.262181",
     "exception": false,
     "start_time": "2023-06-16T21:07:59.224187",
     "status": "completed"
    },
    "tags": []
   },
   "outputs": [
    {
     "data": {
      "text/plain": [
       "'C:\\\\Users\\\\Abraham Audu\\\\Documents\\\\BizDocs Files\\\\THE THREE\\\\Intrusion Detection System\\\\ids_project'"
      ]
     },
     "execution_count": 2,
     "metadata": {},
     "output_type": "execute_result"
    }
   ],
   "source": [
    "%pwd"
   ]
  },
  {
   "attachments": {},
   "cell_type": "markdown",
   "id": "19693fd5",
   "metadata": {
    "papermill": {
     "duration": 0.009005,
     "end_time": "2023-06-16T21:07:59.278190",
     "exception": false,
     "start_time": "2023-06-16T21:07:59.269185",
     "status": "completed"
    },
    "tags": []
   },
   "source": [
    "#### Setup Parameters"
   ]
  },
  {
   "cell_type": "code",
   "execution_count": 3,
   "id": "33b26368",
   "metadata": {
    "execution": {
     "iopub.execute_input": "2023-06-16T21:07:59.353185Z",
     "iopub.status.busy": "2023-06-16T21:07:59.352186Z",
     "iopub.status.idle": "2023-06-16T21:07:59.378186Z",
     "shell.execute_reply": "2023-06-16T21:07:59.376187Z"
    },
    "papermill": {
     "duration": 0.037998,
     "end_time": "2023-06-16T21:07:59.381185",
     "exception": false,
     "start_time": "2023-06-16T21:07:59.343187",
     "status": "completed"
    },
    "tags": []
   },
   "outputs": [],
   "source": [
    "# Data\n",
    "x_train_path = './notebooks/X_train_scaled.csv'\n",
    "x_test_path = './notebooks/X_test_scaled.csv'\n",
    "y_train_path = './notebooks/y_train.csv'\n",
    "y_test_path = './notebooks/y_test.csv'\n",
    "\n",
    "# load params YAML file\n",
    "params_file_path = 'params.yaml'\n",
    "with open(params_file_path, 'r') as file:\n",
    "    params = yaml.safe_load(file)\n",
    "\n",
    "random_state = params['train']['params']['random_state']\n",
    "lr = params['train']['params']['lr']\n",
    "n_estimators = params['train']['params']['n_estimators']\n",
    "max_depth = params['train']['params']['max_depth']\n",
    "\n",
    "# gbc Model\n",
    "# random_state = 42\n",
    "# lr = 0.01\n",
    "# n_estimators = 100\n",
    "# max_depth = 5\n",
    "\n",
    "models_dir = './notebooks/'\n",
    "model_fname  = 'model.joblib'\n",
    "\n",
    "train_params = {'n_estimators': n_estimators,\n",
    "                'max_depth': max_depth,\n",
    "                'lr': lr}"
   ]
  },
  {
   "attachments": {},
   "cell_type": "markdown",
   "id": "2124b07a",
   "metadata": {
    "papermill": {
     "duration": 0.006991,
     "end_time": "2023-06-16T21:07:59.395189",
     "exception": false,
     "start_time": "2023-06-16T21:07:59.388198",
     "status": "completed"
    },
    "tags": []
   },
   "source": [
    "#### Load Preprocessed Data"
   ]
  },
  {
   "cell_type": "code",
   "execution_count": 4,
   "id": "529b61b7",
   "metadata": {
    "execution": {
     "iopub.execute_input": "2023-06-16T21:07:59.415188Z",
     "iopub.status.busy": "2023-06-16T21:07:59.414188Z",
     "iopub.status.idle": "2023-06-16T21:08:01.198185Z",
     "shell.execute_reply": "2023-06-16T21:08:01.197180Z"
    },
    "papermill": {
     "duration": 1.799003,
     "end_time": "2023-06-16T21:08:01.202190",
     "exception": false,
     "start_time": "2023-06-16T21:07:59.403187",
     "status": "completed"
    },
    "tags": []
   },
   "outputs": [],
   "source": [
    "# Load data\n",
    "X_train_scaled = np.genfromtxt(x_train_path, delimiter=',')\n",
    "X_test_scaled = np.genfromtxt(x_test_path, delimiter=',')\n",
    "y_train = np.genfromtxt(y_train_path, delimiter=',')\n",
    "y_test = np.genfromtxt(y_test_path, delimiter=',')"
   ]
  },
  {
   "attachments": {},
   "cell_type": "markdown",
   "id": "9b188626",
   "metadata": {
    "papermill": {
     "duration": 0.006998,
     "end_time": "2023-06-16T21:08:01.217186",
     "exception": false,
     "start_time": "2023-06-16T21:08:01.210188",
     "status": "completed"
    },
    "tags": []
   },
   "source": [
    "#### Build Models"
   ]
  },
  {
   "cell_type": "code",
   "execution_count": 5,
   "id": "bb7d0b47",
   "metadata": {
    "execution": {
     "iopub.execute_input": "2023-06-16T21:08:01.239186Z",
     "iopub.status.busy": "2023-06-16T21:08:01.237188Z",
     "iopub.status.idle": "2023-06-16T21:11:03.140927Z",
     "shell.execute_reply": "2023-06-16T21:11:03.137926Z"
    },
    "papermill": {
     "duration": 181.922744,
     "end_time": "2023-06-16T21:11:03.147928",
     "exception": false,
     "start_time": "2023-06-16T21:08:01.225184",
     "status": "completed"
    },
    "tags": []
   },
   "outputs": [
    {
     "data": {
      "text/plain": [
       "['./notebooks/model.joblib']"
      ]
     },
     "execution_count": 5,
     "metadata": {},
     "output_type": "execute_result"
    }
   ],
   "source": [
    "# Initialize Model\n",
    "gbc = GradientBoostingClassifier(random_state=random_state,\n",
    "                                 learning_rate=lr,\n",
    "                                 n_estimators=n_estimators,\n",
    "                                 max_depth=max_depth)\n",
    "\n",
    "# Train model\n",
    "gbc.fit(X_train_scaled, y_train)\n",
    "\n",
    "# Save model\n",
    "joblib.dump(gbc, models_dir+model_fname)\n",
    "\n"
   ]
  },
  {
   "attachments": {},
   "cell_type": "markdown",
   "id": "776473b2",
   "metadata": {
    "papermill": {
     "duration": 0.013998,
     "end_time": "2023-06-16T21:11:03.177928",
     "exception": false,
     "start_time": "2023-06-16T21:11:03.163930",
     "status": "completed"
    },
    "tags": []
   },
   "source": [
    "#### Evaluate Models"
   ]
  },
  {
   "cell_type": "code",
   "execution_count": 6,
   "id": "4c2d6627",
   "metadata": {
    "execution": {
     "iopub.execute_input": "2023-06-16T21:11:03.208936Z",
     "iopub.status.busy": "2023-06-16T21:11:03.206930Z",
     "iopub.status.idle": "2023-06-16T21:11:03.234930Z",
     "shell.execute_reply": "2023-06-16T21:11:03.231931Z"
    },
    "papermill": {
     "duration": 0.051,
     "end_time": "2023-06-16T21:11:03.240928",
     "exception": false,
     "start_time": "2023-06-16T21:11:03.189928",
     "status": "completed"
    },
    "tags": []
   },
   "outputs": [],
   "source": [
    "# Classification Report for each type of attack\n",
    "def print_f1_scores(y_true, y_pred):\n",
    "    report = classification_report(y_true, y_pred, output_dict=True)\n",
    "\n",
    "    for class_label, metric in report.items():\n",
    "        try:\n",
    "            f1_score_float = metric['f1-score']\n",
    "            print(f\"Class {class_label}: F1-score = {round(f1_score_float, 3)}\")\n",
    "        except:\n",
    "            pass"
   ]
  },
  {
   "cell_type": "code",
   "execution_count": 7,
   "id": "30d609f0",
   "metadata": {
    "execution": {
     "iopub.execute_input": "2023-06-16T21:11:03.271926Z",
     "iopub.status.busy": "2023-06-16T21:11:03.270926Z",
     "iopub.status.idle": "2023-06-16T21:11:03.543937Z",
     "shell.execute_reply": "2023-06-16T21:11:03.540941Z"
    },
    "papermill": {
     "duration": 0.292025,
     "end_time": "2023-06-16T21:11:03.547951",
     "exception": false,
     "start_time": "2023-06-16T21:11:03.255926",
     "status": "completed"
    },
    "tags": []
   },
   "outputs": [
    {
     "name": "stdout",
     "output_type": "stream",
     "text": [
      "Class 0.0: F1-score = 0.998\n",
      "Class 1.0: F1-score = 1.0\n",
      "Class 2.0: F1-score = 0.999\n",
      "Class 3.0: F1-score = 1.0\n",
      "Class 4.0: F1-score = 1.0\n",
      "Class 5.0: F1-score = 1.0\n",
      "Class 6.0: F1-score = 1.0\n",
      "Class 7.0: F1-score = 0.998\n",
      "Class 8.0: F1-score = 1.0\n",
      "Class 9.0: F1-score = 0.992\n",
      "Class 10.0: F1-score = 0.917\n",
      "Class macro avg: F1-score = 0.991\n",
      "Class weighted avg: F1-score = 0.998\n"
     ]
    }
   ],
   "source": [
    "# Make predictions\n",
    "preds = gbc.predict(X_test_scaled)\n",
    "\n",
    "# Evaluate model (F1 Score)\n",
    "f1_score_weighted = round(f1_score(y_test, preds, average='weighted'), 3)\n",
    "f1_score_macro = round(f1_score(y_test, preds, average='macro'), 3)\n",
    "print_f1_scores(y_test, preds)"
   ]
  },
  {
   "cell_type": "code",
   "execution_count": 8,
   "id": "59389e03",
   "metadata": {
    "execution": {
     "iopub.execute_input": "2023-06-16T21:11:03.568924Z",
     "iopub.status.busy": "2023-06-16T21:11:03.566927Z",
     "iopub.status.idle": "2023-06-16T21:11:03.588928Z",
     "shell.execute_reply": "2023-06-16T21:11:03.586952Z"
    },
    "papermill": {
     "duration": 0.039001,
     "end_time": "2023-06-16T21:11:03.593927",
     "exception": false,
     "start_time": "2023-06-16T21:11:03.554926",
     "status": "completed"
    },
    "tags": []
   },
   "outputs": [],
   "source": [
    "# Save metrics\n",
    "metrics = {\n",
    "    'F1-Score_weighted': f1_score_weighted,\n",
    "    'F1-Score_macro': f1_score_macro\n",
    "    }\n",
    "\n",
    "json.dump(\n",
    "    obj=metrics,\n",
    "    fp=open('./notebooks/metrics.json', 'w'),\n",
    "    indent = 4,\n",
    "    sort_keys = True\n",
    "    )\n",
    "\n"
   ]
  },
  {
   "cell_type": "code",
   "execution_count": 9,
   "id": "399314ee",
   "metadata": {
    "execution": {
     "iopub.execute_input": "2023-06-16T21:11:03.612936Z",
     "iopub.status.busy": "2023-06-16T21:11:03.611928Z",
     "iopub.status.idle": "2023-06-16T21:11:03.634925Z",
     "shell.execute_reply": "2023-06-16T21:11:03.632950Z"
    },
    "papermill": {
     "duration": 0.037023,
     "end_time": "2023-06-16T21:11:03.637949",
     "exception": false,
     "start_time": "2023-06-16T21:11:03.600926",
     "status": "completed"
    },
    "tags": []
   },
   "outputs": [
    {
     "data": {
      "text/plain": [
       "'\\n$ dvc run -n run_model_exp -d notebooks/X_train_scaled.csv -d notebooks/X_test_scaled.csv -d notebooks/y_train.csv -d notebooks/y_test.csv -d notebooks/model_exp.ipynb -o notebooks/model.joblib -M notebooks/metrics.json papermill notebooks/model_exp.ipynb notebooks/model_exp_out.ipynb\\n'"
      ]
     },
     "execution_count": 9,
     "metadata": {},
     "output_type": "execute_result"
    }
   ],
   "source": [
    "# DVC command to run pipeline\n",
    "\"\"\"\n",
    "$ dvc run -n run_model_exp -d notebooks/X_train_scaled.csv -d notebooks/X_test_scaled.csv -d notebooks/y_train.csv -d notebooks/y_test.csv -d notebooks/model_exp.ipynb -o notebooks/model.joblib -M notebooks/metrics.json papermill notebooks/model_exp.ipynb notebooks/model_exp_out.ipynb\n",
    "\"\"\""
   ]
  },
  {
   "cell_type": "code",
   "execution_count": 10,
   "id": "9716e086",
   "metadata": {
    "execution": {
     "iopub.execute_input": "2023-06-16T21:11:03.657929Z",
     "iopub.status.busy": "2023-06-16T21:11:03.656926Z",
     "iopub.status.idle": "2023-06-16T21:11:03.681925Z",
     "shell.execute_reply": "2023-06-16T21:11:03.679949Z"
    },
    "papermill": {
     "duration": 0.036995,
     "end_time": "2023-06-16T21:11:03.684926",
     "exception": false,
     "start_time": "2023-06-16T21:11:03.647931",
     "status": "completed"
    },
    "tags": []
   },
   "outputs": [
    {
     "data": {
      "text/plain": [
       "'\\nbase:\\n  project: ids_model\\n\\ntrain:\\n  models_dir:\\n  model_fname: model.joblib\\n  params:\\n    random_state: 42\\n    lr: 0.01\\n    n_estimators: 75\\n    max_depth: 10\\n\\n'"
      ]
     },
     "execution_count": 10,
     "metadata": {},
     "output_type": "execute_result"
    }
   ],
   "source": [
    "\"\"\"\n",
    "\n",
    "stages:\n",
    "  one_stage_pipeline:\n",
    "    cmd: papermill notebooks/model_exp.ipynb notebooks/model_exp_out.ipynb\n",
    "    deps:\n",
    "    - notebooks/X_test_scaled.csv\n",
    "    - notebooks/X_train_scaled.csv\n",
    "    - notebooks/model_exp.ipynb\n",
    "    - notebooks/y_test.csv\n",
    "    - notebooks/y_train.csv\n",
    "    params:\n",
    "    - base\n",
    "    - train\n",
    "    outs:\n",
    "    - notebooks/model.joblib\n",
    "    metrics:\n",
    "    - notebooks/metrics.json:\n",
    "        cache: false\n",
    "    \n",
    "    \"\"\"\n",
    "\n",
    "\n",
    "\n",
    "\"\"\"\n",
    "base:\n",
    "  project: ids_model\n",
    "\n",
    "train:\n",
    "  models_dir:\n",
    "  model_fname: model.joblib\n",
    "  params:\n",
    "    random_state: 42\n",
    "    lr: 0.01\n",
    "    n_estimators: 75\n",
    "    max_depth: 10\n",
    "\n",
    "\"\"\""
   ]
  }
 ],
 "metadata": {
  "kernelspec": {
   "display_name": "venv",
   "language": "python",
   "name": "python3"
  },
  "language_info": {
   "codemirror_mode": {
    "name": "ipython",
    "version": 3
   },
   "file_extension": ".py",
   "mimetype": "text/x-python",
   "name": "python",
   "nbconvert_exporter": "python",
   "pygments_lexer": "ipython3",
   "version": "3.10.7"
  },
  "papermill": {
   "default_parameters": {},
   "duration": 197.825743,
   "end_time": "2023-06-16T21:11:04.481930",
   "environment_variables": {},
   "exception": null,
   "input_path": "notebooks/model_exp.ipynb",
   "output_path": "notebooks/model_exp_out.ipynb",
   "parameters": {},
   "start_time": "2023-06-16T21:07:46.656187",
   "version": "2.4.0"
  }
 },
 "nbformat": 4,
 "nbformat_minor": 5
}