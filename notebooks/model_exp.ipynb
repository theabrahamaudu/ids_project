{
 "cells": [
  {
   "attachments": {},
   "cell_type": "markdown",
   "metadata": {},
   "source": [
    "### Import Libraries"
   ]
  },
  {
   "cell_type": "code",
   "execution_count": 1,
   "metadata": {},
   "outputs": [],
   "source": [
    "# General\n",
    "import time\n",
    "import pandas as pd\n",
    "import numpy as np\n",
    "import joblib\n",
    "import json\n",
    "import yaml\n",
    "\n",
    "# ML Models\n",
    "from sklearn.ensemble import GradientBoostingClassifier\n",
    "from sklearn.tree import DecisionTreeClassifier\n",
    "import lightgbm as lgb\n",
    "from sklearn.svm import SVC\n",
    "import xgboost as xgb\n",
    "\n",
    "# # DL Models\n",
    "# import tensorflow as tf\n",
    "# from tensorflow.keras import models\n",
    "# from tensorflow.keras.models import Sequential\n",
    "# from tensorflow.keras.layers import (Dense, Dropout, \n",
    "#                                      Bidirectional, LSTM, \n",
    "#                                      Conv1D, MaxPooling1D, Flatten, LeakyReLU)\n",
    "# from tensorflow.keras.callbacks import EarlyStopping\n",
    "\n",
    "# Evaluation\n",
    "from sklearn.metrics import f1_score, classification_report\n",
    "\n",
    "# # DVC stuff\n",
    "# from dvclive import Live\n",
    "\n"
   ]
  },
  {
   "cell_type": "code",
   "execution_count": 3,
   "metadata": {},
   "outputs": [
    {
     "data": {
      "text/plain": [
       "'c:\\\\Users\\\\Abraham Audu\\\\Documents\\\\BizDocs Files\\\\THE THREE\\\\Intrusion Detection System\\\\ids_project'"
      ]
     },
     "execution_count": 3,
     "metadata": {},
     "output_type": "execute_result"
    }
   ],
   "source": [
    "# import os\n",
    "# os.chdir('..')\n",
    "%pwd"
   ]
  },
  {
   "attachments": {},
   "cell_type": "markdown",
   "metadata": {},
   "source": [
    "#### Setup Parameters"
   ]
  },
  {
   "cell_type": "code",
   "execution_count": 4,
   "metadata": {
    "tags": [
     "parameters"
    ]
   },
   "outputs": [],
   "source": [
    "# Data\n",
    "# x_train_path = './notebooks/X_train_scaled.csv'\n",
    "# x_test_path = './notebooks/X_test_scaled.csv'\n",
    "# y_train_path = './notebooks/y_train.csv'\n",
    "# y_test_path = './notebooks/y_test.csv'\n",
    "\n",
    "x_train_path = './data/processed/X_train_scaled.csv'\n",
    "x_test_path = './data/processed/X_test_scaled.csv'\n",
    "y_train_path = './data/processed/y_train.csv'\n",
    "y_test_path = './data/processed/y_test.csv'\n",
    "\n",
    "# # load params YAML file\n",
    "# params_file_path = 'params.yaml'\n",
    "# with open(params_file_path, 'r') as file:\n",
    "#     params = yaml.safe_load(file)\n",
    "\n",
    "# random_state = params['train']['params']['random_state']\n",
    "# lr = params['train']['params']['lr']\n",
    "# n_estimators = params['train']['params']['n_estimators']\n",
    "# max_depth = params['train']['params']['max_depth']\n",
    "\n",
    "# gbc Model\n",
    "gbc_params = {\n",
    "    'n_estimators': 76,\n",
    "    'max_depth': 10,\n",
    "    'learning_rate': 0.01,\n",
    "    'random_state': 42\n",
    "}\n",
    "\n",
    "# LightGBM model\n",
    "lgb_params = {\n",
    "    'objective': 'multiclass',\n",
    "    'metric': 'multi_logloss',\n",
    "    'num_classes': 11,\n",
    "    'num_leaves': 31,\n",
    "    'learning_rate': 0.05,\n",
    "    'feature_fraction': 0.9,\n",
    "    'bagging_fraction': 0.8,\n",
    "    'bagging_freq': 5,\n",
    "    'verbose': 0\n",
    "}\n",
    "\n",
    "# SVM model\n",
    "svc_params = {\n",
    "    'kernel': 'rbf',\n",
    "    'C': 1.0\n",
    "}\n",
    "\n",
    "# XGB model\n",
    "xgb_params = {\n",
    "    \n",
    "    'num_class': 11,  \n",
    "    'max_depth': 5,\n",
    "    'learning_rate': 0.1,\n",
    "    'n_estimators': 100,\n",
    "    'subsample': 0.8,\n",
    "    'colsample_bytree': 0.8,\n",
    "    'eval_metric': 'merror'\n",
    "}\n",
    "\n",
    "# DL Models\n",
    "epochs = 100\n",
    "batch_size = 128\n",
    "num_classes = 1\n",
    "\n",
    "models_dir = './notebooks/'\n",
    "# model_fname  = 'model.joblib'\n",
    "\n"
   ]
  },
  {
   "attachments": {},
   "cell_type": "markdown",
   "metadata": {},
   "source": [
    "#### Load Preprocessed Data"
   ]
  },
  {
   "cell_type": "code",
   "execution_count": 5,
   "metadata": {},
   "outputs": [],
   "source": [
    "# Load data\n",
    "X_train_scaled = np.genfromtxt(x_train_path, delimiter=',')\n",
    "X_test_scaled = np.genfromtxt(x_test_path, delimiter=',')\n",
    "y_train = np.genfromtxt(y_train_path, delimiter=',', skip_header=1)\n",
    "y_test = np.genfromtxt(y_test_path, delimiter=',', skip_header=1)"
   ]
  },
  {
   "cell_type": "code",
   "execution_count": 6,
   "metadata": {},
   "outputs": [
    {
     "data": {
      "text/plain": [
       "(363326, 40)"
      ]
     },
     "execution_count": 6,
     "metadata": {},
     "output_type": "execute_result"
    }
   ],
   "source": [
    "X_train_scaled.shape"
   ]
  },
  {
   "cell_type": "code",
   "execution_count": 24,
   "metadata": {},
   "outputs": [],
   "source": [
    "unprocessed_csv = pd.read_csv('./temp/mitm-arpspoofing-4-decunprocessed.csv')\n",
    "processed_data = np.genfromtxt('./temp/mitm-arpspoofing-4-dec.csv', delimiter=\",\")\n",
    "\n",
    "# processed_data = np.genfromtxt('./notebooks/test_path_scaled.csv', delimiter=\",\")"
   ]
  },
  {
   "cell_type": "code",
   "execution_count": 35,
   "metadata": {},
   "outputs": [
    {
     "name": "stdout",
     "output_type": "stream",
     "text": [
      "['182.162.108.112' '192.168.0.24' '192.168.0.13' '3.0.230.212'\n",
      " '163.152.1.1' '192.168.0.1' '192.168.0.14' nan '74.125.203.189'\n",
      " '172.217.161.78' '172.217.25.238' '13.228.233.32' '223.39.123.194'\n",
      " '192.168.0.15' '223.39.123.193' '168.126.63.1' '8.8.8.8' '223.39.118.176'\n",
      " '223.39.123.191' '163.152.11.6' '52.219.32.0' '192.168.56.1'\n",
      " '210.220.163.82' '223.39.123.245' '150.109.183.123' '150.109.182.50'\n",
      " '223.39.118.149' '14.129.200.42' '14.129.200.24' '121.254.133.163'\n",
      " '175.158.10.9' '42.223.9.25' '216.58.197.131' '219.241.28.254'\n",
      " '198.168.0.24' '52.219.32.24' '121.254.133.161' '175.158.10.12'\n",
      " '211.188.147.64' '222.239.240.107' '178.140.139.52' '52.219.36.164'\n",
      " '216.58.197.142' '52.219.36.92' '192.168.72.152' '104.144.1.24'\n",
      " '101.48.191.163' '192.168.0.216' '223.39.118.40' '108.177.97.109'\n",
      " '108.177.125.108']\n"
     ]
    }
   ],
   "source": [
    "print(unprocessed_csv['ip_src'].unique())"
   ]
  },
  {
   "cell_type": "code",
   "execution_count": 10,
   "metadata": {},
   "outputs": [],
   "source": [
    "from src.features.build_features import convert_to_float, inference_preprocess\n",
    "\n",
    "optimal_features =[\n",
    "                'timestamp', 'ip_len', 'ip_id', 'ip_flags', 'ip_ttl', 'ip_proto',\n",
    "                'ip_checksum', 'ip_dst', 'ip_dst_host','tcp_srcport', 'tcp_dstport',\n",
    "                'tcp_port', 'tcp_stream', 'tcp_completeness', 'tcp_seq_raw', 'tcp_ack',\n",
    "                'tcp_ack_raw', 'tcp_flags_reset', 'tcp_flags_syn', 'tcp_window_size_value',\n",
    "                'tcp_window_size', 'tcp_window_size_scalefactor', 'tcp_', 'udp_srcport',\n",
    "                'udp_dstport', 'udp_port', 'udp_length', 'udp_time_delta', 'eth_dst_oui',\n",
    "                'eth_addr_oui', 'eth_dst_lg', 'eth_lg', 'eth_ig', 'eth_src_oui', 'eth_type',\n",
    "                'icmp_type', 'icmp_code', 'icmp_checksum', 'icmp_checksum_status', 'arp_opcode'\n",
    "                ]"
   ]
  },
  {
   "cell_type": "code",
   "execution_count": 11,
   "metadata": {},
   "outputs": [],
   "source": [
    "data_optimal_features = unprocessed_csv[optimal_features]"
   ]
  },
  {
   "cell_type": "code",
   "execution_count": 12,
   "metadata": {},
   "outputs": [
    {
     "name": "stderr",
     "output_type": "stream",
     "text": [
      "Converting to float64:   0%|          | 0/796560 [00:00<?, ? data points/s]"
     ]
    },
    {
     "name": "stderr",
     "output_type": "stream",
     "text": [
      "Converting to float64: 100%|██████████| 796560/796560 [00:02<00:00, 286215.51 data points/s]\n"
     ]
    }
   ],
   "source": [
    "data_floats = convert_to_float(data_optimal_features)"
   ]
  },
  {
   "cell_type": "code",
   "execution_count": 14,
   "metadata": {},
   "outputs": [],
   "source": [
    "data_scaled = scaler.transform(data_floats)"
   ]
  },
  {
   "cell_type": "code",
   "execution_count": 12,
   "metadata": {},
   "outputs": [
    {
     "name": "stderr",
     "output_type": "stream",
     "text": [
      "Converting to float64:   4%|▍         | 32314/796560 [00:00<00:02, 320023.47 data points/s]"
     ]
    },
    {
     "name": "stderr",
     "output_type": "stream",
     "text": [
      "Converting to float64: 100%|██████████| 796560/796560 [00:02<00:00, 277742.73 data points/s]\n"
     ]
    }
   ],
   "source": [
    "data_scaled_auto = inference_preprocess(unprocessed_csv)"
   ]
  },
  {
   "cell_type": "code",
   "execution_count": 13,
   "metadata": {},
   "outputs": [
    {
     "data": {
      "text/plain": [
       "array([ 0.08719434,  0.69084304, -0.25064864,  1.06972117, -0.42493424,\n",
       "       -0.04538017,  1.23987242,  0.96496015,  0.93403895,  1.85566047,\n",
       "       -0.78100494,  1.85757288, -0.54323185,  0.20733066,  0.46368109,\n",
       "       -0.12038041, -0.04566362,  0.61554076,  0.44208432,  2.0184838 ,\n",
       "       -0.00577267, -0.04979459, -0.30901828, -0.55983609, -0.43313485,\n",
       "       -0.55978361, -0.13272147, -0.55067527,  1.62585703,  1.62585703,\n",
       "       -0.08128793, -0.08127078,  0.15794467, -1.41100887, -0.01785071,\n",
       "       -0.08568366, -0.0020799 , -0.07641807, -0.00257187, -0.08112283])"
      ]
     },
     "execution_count": 13,
     "metadata": {},
     "output_type": "execute_result"
    }
   ],
   "source": [
    "data_scaled[3000]"
   ]
  },
  {
   "cell_type": "code",
   "execution_count": 14,
   "metadata": {},
   "outputs": [
    {
     "data": {
      "text/plain": [
       "array([ 0.08719434,  0.69084304, -0.25064864,  1.06972117, -0.42493424,\n",
       "       -0.04538017,  1.23987242,  0.96496015,  0.93403895,  1.85566047,\n",
       "       -0.78100494,  1.85757288, -0.54323185,  0.20733066,  0.46368109,\n",
       "       -0.12038041, -0.04566362,  0.61554076,  0.44208432,  2.0184838 ,\n",
       "       -0.00577267, -0.04979459, -0.30901828, -0.55983609, -0.43313485,\n",
       "       -0.55978361, -0.13272147, -0.55067527,  1.62585703,  1.62585703,\n",
       "       -0.08128793, -0.08127078,  0.15794467, -1.41100887, -0.01785071,\n",
       "       -0.08568366, -0.0020799 , -0.07641807, -0.00257187, -0.08112283])"
      ]
     },
     "execution_count": 14,
     "metadata": {},
     "output_type": "execute_result"
    }
   ],
   "source": [
    "data_scaled_auto[3000]"
   ]
  },
  {
   "cell_type": "code",
   "execution_count": 13,
   "metadata": {},
   "outputs": [],
   "source": [
    "scaler = joblib.load('./src/features/scaler.pkl')\n",
    "# scaled_processed_data = scaler.transform(processed_data)"
   ]
  },
  {
   "cell_type": "code",
   "execution_count": 81,
   "metadata": {},
   "outputs": [
    {
     "data": {
      "text/plain": [
       "array([ 8.71940823e-02, -2.36146395e-01,  9.27919773e-01,  1.06972117e+00,\n",
       "       -2.36069334e+00, -4.99669188e-02,  1.05461757e+00, -6.32500550e-02,\n",
       "       -4.53444566e-02, -6.75894388e-01, -8.00346873e-01, -6.74803314e-01,\n",
       "       -5.53140595e-01, -5.14943731e-01, -7.04612266e-01, -1.20394180e-01,\n",
       "       -6.44965802e-01, -2.30787404e+00, -2.19384033e+00, -5.42778950e-01,\n",
       "       -1.21446802e-02, -5.08131234e-02, -3.09018279e-01, -5.59836091e-01,\n",
       "       -4.33134849e-01, -5.59783606e-01, -1.32721473e-01, -5.50675267e-01,\n",
       "       -1.98661424e+00, -1.98661424e+00, -4.96142351e+01, -4.96245368e+01,\n",
       "       -5.93651196e+00, -1.46179552e+00, -1.78507065e-02, -8.56836628e-02,\n",
       "       -2.07990121e-03, -7.64180691e-02, -2.57186849e-03, -8.11228337e-02])"
      ]
     },
     "execution_count": 81,
     "metadata": {},
     "output_type": "execute_result"
    }
   ],
   "source": [
    "processed_data[676]"
   ]
  },
  {
   "cell_type": "code",
   "execution_count": 82,
   "metadata": {},
   "outputs": [
    {
     "data": {
      "text/plain": [
       "array([ 0.11450821,  0.6865286 , -0.09820089,  1.06972117, -0.85193992,\n",
       "       -0.04538017, -0.71136227, -0.06325006, -0.04534446, -0.65254355,\n",
       "        1.07075798, -0.6514449 , -0.53982572,  2.03202386,  1.63406263,\n",
       "       -0.12039417,  0.56746835,  0.61554076,  0.44208432, -0.52236794,\n",
       "       -0.0120939 , -0.04979459, -0.30901828, -0.55983609, -0.43313485,\n",
       "       -0.55978361, -0.13272147, -0.55067527, -1.9234349 , -1.9234349 ,\n",
       "       -0.08128793, -0.08127078,  0.15794467,  0.18565013, -0.01785071,\n",
       "       -0.08568366, -0.0020799 , -0.07641807, -0.00257187, -0.08112283])"
      ]
     },
     "execution_count": 82,
     "metadata": {},
     "output_type": "execute_result"
    }
   ],
   "source": [
    "X_test_scaled[-10]"
   ]
  },
  {
   "cell_type": "code",
   "execution_count": 15,
   "metadata": {},
   "outputs": [
    {
     "data": {
      "text/plain": [
       "(19914, 40)"
      ]
     },
     "execution_count": 15,
     "metadata": {},
     "output_type": "execute_result"
    }
   ],
   "source": [
    "data_scaled.shape"
   ]
  },
  {
   "cell_type": "code",
   "execution_count": 21,
   "metadata": {},
   "outputs": [
    {
     "name": "stderr",
     "output_type": "stream",
     "text": [
      "Converting to float64: 100%|██████████| 796560/796560 [00:04<00:00, 181468.37 data points/s]\n"
     ]
    }
   ],
   "source": [
    "data_optimal_features = unprocessed_csv[optimal_features]\n",
    "data_floats = convert_to_float(data_optimal_features)\n",
    "data_scaled = scaler.transform(data_floats)"
   ]
  },
  {
   "cell_type": "code",
   "execution_count": 25,
   "metadata": {},
   "outputs": [],
   "source": [
    "from collections import OrderedDict\n",
    "# Load model\n",
    "# MODELS_DIR = './models/'\n",
    "# model = xgb.Booster()\n",
    "# model.load_model(MODELS_DIR+'xgb_model.bin')\n",
    "\n",
    "model = xgb.XGBClassifier()\n",
    "model.load_model(models_dir+'xgb_model.bin')\n",
    "# model = joblib.load(models_dir+'lgb_model.joblib')\n",
    "\n",
    "predictions = []\n",
    "\n",
    "for packet_row in range(len(processed_data)):\n",
    "    packet = processed_data[packet_row]\n",
    "    packet = OrderedDict(enumerate(packet))\n",
    "    packet = np.array(list(packet.values())).reshape(1, 40)\n",
    "    # print(packet)\n",
    "    # packet = xgb.DMatrix(packet)\n",
    "    packet_class = model.predict(packet)\n",
    "    predictions.append(packet_class.item())"
   ]
  },
  {
   "cell_type": "code",
   "execution_count": 39,
   "metadata": {},
   "outputs": [],
   "source": [
    "dt_model = DecisionTreeClassifier()\n",
    "\n",
    "dt_model = dt_model.fit(X_train_scaled, y_train)\n",
    "\n",
    "predictions = dt_model.predict(processed_data)\n",
    "\n"
   ]
  },
  {
   "cell_type": "code",
   "execution_count": 26,
   "metadata": {},
   "outputs": [
    {
     "data": {
      "text/plain": [
       "4481"
      ]
     },
     "execution_count": 26,
     "metadata": {},
     "output_type": "execute_result"
    }
   ],
   "source": [
    "count = 0\n",
    "for i in predictions:\n",
    "    if int(i) == 7:\n",
    "        count+=1\n",
    "count"
   ]
  },
  {
   "cell_type": "code",
   "execution_count": 24,
   "metadata": {},
   "outputs": [],
   "source": [
    "# Convert the training data to XGBoost's DMatrix format\n",
    "# dtrain = xgb.DMatrix(X_train_scaled, label=y_train)\n",
    "\n",
    "# Train the XGBoost model\n",
    "xgb_model = xgb.XGBClassifier(objective='multi:softmax')\n",
    "\n",
    "xgb_model = xgb_model.fit(X_train_scaled, y_train)\n",
    "\n",
    "\n",
    "# Save model\n",
    "xgb_model.save_model(models_dir+'xgb_model.bin')"
   ]
  },
  {
   "cell_type": "code",
   "execution_count": 25,
   "metadata": {},
   "outputs": [],
   "source": [
    "\n",
    "# dtest = xgb.DMatrix(X_test_scaled[:10])\n",
    "predictions = model.predict(X_test_scaled)\n"
   ]
  },
  {
   "cell_type": "code",
   "execution_count": 36,
   "metadata": {},
   "outputs": [
    {
     "name": "stdout",
     "output_type": "stream",
     "text": [
      "Class 0.0: F1-score = 1.0\n",
      "Class 1.0: F1-score = 1.0\n",
      "Class 2.0: F1-score = 1.0\n",
      "Class 3.0: F1-score = 0.995\n",
      "Class 4.0: F1-score = 1.0\n",
      "Class 5.0: F1-score = 1.0\n",
      "Class 6.0: F1-score = 1.0\n",
      "Class 7.0: F1-score = 1.0\n",
      "Class 8.0: F1-score = 1.0\n",
      "Class 9.0: F1-score = 1.0\n",
      "Class 10.0: F1-score = 0.997\n",
      "Class macro avg: F1-score = 0.999\n",
      "Class weighted avg: F1-score = 1.0\n"
     ]
    }
   ],
   "source": [
    "print_f1_scores(y_test, predictions)"
   ]
  },
  {
   "cell_type": "code",
   "execution_count": 15,
   "metadata": {},
   "outputs": [
    {
     "name": "stdout",
     "output_type": "stream",
     "text": [
      "[[ 1.14508781e-01 -2.09027023e-01 -7.99560979e-01 -7.81394714e-01\n",
      "  -4.24934235e-01 -4.53801661e-02  1.32617652e+00  5.33283265e-01\n",
      "   5.22861179e-01  1.67893589e+00 -4.63658772e-01  1.68079096e+00\n",
      "   8.87033514e-01 -3.62885965e-01 -7.04581139e-01 -1.20394170e-01\n",
      "  -6.44965799e-01  6.15540764e-01  4.42084320e-01  2.27346196e+00\n",
      "  -5.13832234e-03 -4.92853161e-02 -3.09018279e-01 -5.59836091e-01\n",
      "  -4.33134849e-01 -5.59783606e-01 -1.32721473e-01 -5.50675267e-01\n",
      "  -1.98661424e+00 -1.98661424e+00 -8.12879335e-02 -8.12707776e-02\n",
      "  -5.93651196e+00 -1.46179552e+00 -1.78507065e-02 -8.56836628e-02\n",
      "  -2.07990121e-03 -7.64180691e-02 -2.57186849e-03 -8.11228337e-02]\n",
      " [ 1.07107181e-01 -2.06561625e-01  1.51064739e+00 -7.81394714e-01\n",
      "  -7.38071738e-01 -4.53801661e-02 -7.15912947e-01 -6.32500771e-02\n",
      "  -4.53444777e-02  1.57445786e+00 -6.31894646e-01  1.57627904e+00\n",
      "  -3.33290322e-01 -3.24871523e-01 -5.68177759e-01 -1.20394172e-01\n",
      "  -6.44965799e-01  6.15540764e-01  1.10106548e+00 -4.60815990e-01\n",
      "  -1.19407694e-02 -5.03038543e-02 -3.09018279e-01 -5.59836091e-01\n",
      "  -4.33134849e-01 -5.59783606e-01 -1.32721473e-01 -5.50675267e-01\n",
      "   8.43698114e-01  8.43698114e-01 -8.12879335e-02 -8.12707776e-02\n",
      "   1.57944666e-01  1.44208555e+00 -1.78507065e-02 -8.56836628e-02\n",
      "  -2.07990121e-03 -7.64180691e-02 -2.57186849e-03 -8.11228337e-02]]\n"
     ]
    }
   ],
   "source": [
    "print(X_train_scaled[:2])"
   ]
  },
  {
   "cell_type": "code",
   "execution_count": 16,
   "metadata": {},
   "outputs": [
    {
     "data": {
      "text/plain": [
       "array([2., 9., 1., ..., 0., 1., 7.])"
      ]
     },
     "execution_count": 16,
     "metadata": {},
     "output_type": "execute_result"
    }
   ],
   "source": [
    "y_train"
   ]
  },
  {
   "attachments": {},
   "cell_type": "markdown",
   "metadata": {},
   "source": [
    "#### Build ML Models"
   ]
  },
  {
   "attachments": {},
   "cell_type": "markdown",
   "metadata": {},
   "source": [
    "Gradient Boosting Classifier"
   ]
  },
  {
   "cell_type": "code",
   "execution_count": 17,
   "metadata": {},
   "outputs": [
    {
     "data": {
      "text/plain": [
       "['./notebooks/gbc_model.joblib']"
      ]
     },
     "execution_count": 17,
     "metadata": {},
     "output_type": "execute_result"
    }
   ],
   "source": [
    "# Initialize Model\n",
    "gbc = GradientBoostingClassifier(**gbc_params)\n",
    "\n",
    "# Train model\n",
    "st = time.process_time()\n",
    "\n",
    "gbc_model = gbc.fit(X_train_scaled, y_train)\n",
    "\n",
    "gbc_train_time = time.process_time() - st\n",
    "\n",
    "# Save model\n",
    "joblib.dump(gbc_model, models_dir+'gbc_model.joblib')\n"
   ]
  },
  {
   "attachments": {},
   "cell_type": "markdown",
   "metadata": {},
   "source": [
    "Light GBM"
   ]
  },
  {
   "cell_type": "code",
   "execution_count": 18,
   "metadata": {},
   "outputs": [
    {
     "name": "stdout",
     "output_type": "stream",
     "text": [
      "[LightGBM] [Warning] Auto-choosing row-wise multi-threading, the overhead of testing was 0.580434 seconds.\n",
      "You can set `force_row_wise=true` to remove the overhead.\n",
      "And if memory is not enough, you can set `force_col_wise=true`.\n",
      "[LightGBM] [Warning] No further splits with positive gain, best gain: -inf\n",
      "[LightGBM] [Warning] No further splits with positive gain, best gain: -inf\n",
      "[LightGBM] [Warning] No further splits with positive gain, best gain: -inf\n",
      "[LightGBM] [Warning] No further splits with positive gain, best gain: -inf\n",
      "[LightGBM] [Warning] No further splits with positive gain, best gain: -inf\n",
      "[LightGBM] [Warning] No further splits with positive gain, best gain: -inf\n",
      "[LightGBM] [Warning] No further splits with positive gain, best gain: -inf\n",
      "[LightGBM] [Warning] No further splits with positive gain, best gain: -inf\n",
      "[LightGBM] [Warning] No further splits with positive gain, best gain: -inf\n",
      "[LightGBM] [Warning] No further splits with positive gain, best gain: -inf\n",
      "[LightGBM] [Warning] No further splits with positive gain, best gain: -inf\n",
      "[LightGBM] [Warning] No further splits with positive gain, best gain: -inf\n",
      "[LightGBM] [Warning] No further splits with positive gain, best gain: -inf\n",
      "[LightGBM] [Warning] No further splits with positive gain, best gain: -inf\n",
      "[LightGBM] [Warning] No further splits with positive gain, best gain: -inf\n",
      "[LightGBM] [Warning] No further splits with positive gain, best gain: -inf\n",
      "[LightGBM] [Warning] No further splits with positive gain, best gain: -inf\n",
      "[LightGBM] [Warning] No further splits with positive gain, best gain: -inf\n",
      "[LightGBM] [Warning] No further splits with positive gain, best gain: -inf\n",
      "[LightGBM] [Warning] No further splits with positive gain, best gain: -inf\n",
      "[LightGBM] [Warning] No further splits with positive gain, best gain: -inf\n",
      "[LightGBM] [Warning] No further splits with positive gain, best gain: -inf\n"
     ]
    },
    {
     "data": {
      "text/plain": [
       "['./notebooks/lgb_model.joblib']"
      ]
     },
     "execution_count": 18,
     "metadata": {},
     "output_type": "execute_result"
    }
   ],
   "source": [
    "# Define the LightGBM dataset\n",
    "train_data = lgb.Dataset(X_train_scaled, label=y_train)\n",
    "\n",
    "# Train the LightGBM model\n",
    "st = time.process_time()\n",
    "lgb_model = lgb.train(lgb_params, train_data, num_boost_round=100)\n",
    "lgb_train_time = time.process_time() - st\n",
    "\n",
    "# Save model\n",
    "joblib.dump(lgb_model, models_dir+'lgb_model.joblib')"
   ]
  },
  {
   "attachments": {},
   "cell_type": "markdown",
   "metadata": {},
   "source": [
    "Support Vector Classifier - SVM"
   ]
  },
  {
   "cell_type": "code",
   "execution_count": 19,
   "metadata": {},
   "outputs": [
    {
     "data": {
      "text/plain": [
       "['./notebooks/svm_model.joblib']"
      ]
     },
     "execution_count": 19,
     "metadata": {},
     "output_type": "execute_result"
    }
   ],
   "source": [
    "# Initialize the SVM model with hyperparameters\n",
    "svm = SVC(**svc_params)\n",
    "\n",
    "# Train the SVM model\n",
    "st = time.process_time()\n",
    "svm_model = svm.fit(X_train_scaled, y_train)\n",
    "svm_train_time = time.process_time() - st\n",
    "\n",
    "# Save model\n",
    "joblib.dump(svm_model, models_dir+'svm_model.joblib')"
   ]
  },
  {
   "attachments": {},
   "cell_type": "markdown",
   "metadata": {},
   "source": [
    "XGBoost"
   ]
  },
  {
   "cell_type": "code",
   "execution_count": 20,
   "metadata": {},
   "outputs": [
    {
     "name": "stdout",
     "output_type": "stream",
     "text": [
      "[05:46:32] WARNING: C:\\buildkite-agent\\builds\\buildkite-windows-cpu-autoscaling-group-i-07593ffd91cd9da33-1\\xgboost\\xgboost-ci-windows\\src\\learner.cc:767: \n",
      "Parameters: { \"n_estimators\" } are not used.\n",
      "\n"
     ]
    },
    {
     "data": {
      "text/plain": [
       "['./notebooks/xgb_model.joblib']"
      ]
     },
     "execution_count": 20,
     "metadata": {},
     "output_type": "execute_result"
    }
   ],
   "source": [
    "# Convert the training data to XGBoost's DMatrix format\n",
    "dtrain = xgb.DMatrix(X_train_scaled, label=y_train)\n",
    "\n",
    "# Train the XGBoost model\n",
    "st = time.process_time()\n",
    "xgb_model = xgb.train(xgb_params, dtrain)\n",
    "xgb_train_time = time.process_time() - st\n",
    "\n",
    "# Save model\n",
    "joblib.dump(xgb_model, models_dir+'xgb_model.joblib')"
   ]
  },
  {
   "attachments": {},
   "cell_type": "markdown",
   "metadata": {},
   "source": [
    "#### Build DL Models"
   ]
  },
  {
   "cell_type": "code",
   "execution_count": 6,
   "metadata": {},
   "outputs": [
    {
     "data": {
      "text/plain": [
       "[PhysicalDevice(name='/physical_device:GPU:0', device_type='GPU')]"
      ]
     },
     "execution_count": 6,
     "metadata": {},
     "output_type": "execute_result"
    }
   ],
   "source": [
    "# This is to configure GPU and avoid OOM error by setting GPU memory consumption growth\n",
    "\n",
    "# To avoid OOM error by setting GPU memory consumption growth\n",
    "gpus = tf.config.list_physical_devices('GPU')\n",
    "gpus\n"
   ]
  },
  {
   "attachments": {},
   "cell_type": "markdown",
   "metadata": {},
   "source": [
    "Feedforward Neural Network (FNN)"
   ]
  },
  {
   "cell_type": "code",
   "execution_count": 22,
   "metadata": {},
   "outputs": [],
   "source": [
    "# # Define the architecture of the neural network\n",
    "# fnn_model = Sequential()\n",
    "# fnn_model.add(Dense(256, input_dim=40, activation='relu', kernel_initializer='he_uniform'))\n",
    "# fnn_model.add(Dropout(0.5))\n",
    "# fnn_model.add(Dense(128, activation='relu'))\n",
    "# fnn_model.add(Dropout(0.5))\n",
    "# fnn_model.add(Dense(64, activation='relu'))\n",
    "# fnn_model.add(Dropout(0.5))\n",
    "# fnn_model.add(Dense(1, activation='softmax'))\n",
    "\n",
    "# # Compile the model\n",
    "# learning_rate = 0.01\n",
    "# sgd_optimizer = tf.keras.optimizers.SGD(learning_rate=learning_rate)\n",
    "# fnn_model.compile(loss='categorical_crossentropy', optimizer=sgd_optimizer, metrics=['accuracy'])\n",
    "\n",
    "# # Train the FNN model\n",
    "# st = time.process_time()\n",
    "# fnn_model.fit(X_train_scaled, \n",
    "#               y_train, \n",
    "#               epochs=100, \n",
    "#               batch_size=128,\n",
    "#               validation_split=0.1,\n",
    "#               callbacks=[EarlyStopping(patience=4)])\n",
    "# fnn_train_time = time.process_time() - st\n",
    "\n",
    "# # Save the model\n",
    "# fnn_model.save(models_dir+'fnn_model.h5')"
   ]
  },
  {
   "attachments": {},
   "cell_type": "markdown",
   "metadata": {},
   "source": [
    "BiLSTM Neural Network"
   ]
  },
  {
   "cell_type": "code",
   "execution_count": 7,
   "metadata": {},
   "outputs": [
    {
     "name": "stdout",
     "output_type": "stream",
     "text": [
      "Epoch 1/100\n",
      "2555/2555 [==============================] - 427s 152ms/step - loss: 0.0000e+00 - accuracy: 0.1283 - val_loss: 0.0000e+00 - val_accuracy: 0.1297\n",
      "Epoch 2/100\n",
      "2555/2555 [==============================] - 414s 162ms/step - loss: 0.0000e+00 - accuracy: 0.1283 - val_loss: 0.0000e+00 - val_accuracy: 0.1297\n",
      "Epoch 3/100\n",
      "  51/2555 [..............................] - ETA: 7:24 - loss: 0.0000e+00 - accuracy: 0.1265"
     ]
    },
    {
     "ename": "KeyboardInterrupt",
     "evalue": "",
     "output_type": "error",
     "traceback": [
      "\u001b[1;31m---------------------------------------------------------------------------\u001b[0m",
      "\u001b[1;31mKeyboardInterrupt\u001b[0m                         Traceback (most recent call last)",
      "Cell \u001b[1;32mIn[7], line 19\u001b[0m\n\u001b[0;32m     17\u001b[0m \u001b[39m# Train the FNN model\u001b[39;00m\n\u001b[0;32m     18\u001b[0m st \u001b[39m=\u001b[39m time\u001b[39m.\u001b[39mprocess_time()\n\u001b[1;32m---> 19\u001b[0m blstm_model\u001b[39m.\u001b[39;49mfit(X_train_scaled, \n\u001b[0;32m     20\u001b[0m                 y_train, \n\u001b[0;32m     21\u001b[0m                 epochs\u001b[39m=\u001b[39;49mepochs, \n\u001b[0;32m     22\u001b[0m                 batch_size\u001b[39m=\u001b[39;49mbatch_size,\n\u001b[0;32m     23\u001b[0m                 validation_split\u001b[39m=\u001b[39;49m\u001b[39m0.1\u001b[39;49m, \n\u001b[0;32m     24\u001b[0m                 callbacks\u001b[39m=\u001b[39;49m[EarlyStopping(patience\u001b[39m=\u001b[39;49m\u001b[39m2\u001b[39;49m)])\n\u001b[0;32m     25\u001b[0m blstm_train_time \u001b[39m=\u001b[39m time\u001b[39m.\u001b[39mprocess_time() \u001b[39m-\u001b[39m st\n\u001b[0;32m     27\u001b[0m \u001b[39m# Save the model\u001b[39;00m\n",
      "File \u001b[1;32mc:\\Users\\Abraham Audu\\Documents\\BizDocs Files\\THE THREE\\Intrusion Detection System\\ids_project\\venv\\lib\\site-packages\\keras\\utils\\traceback_utils.py:65\u001b[0m, in \u001b[0;36mfilter_traceback.<locals>.error_handler\u001b[1;34m(*args, **kwargs)\u001b[0m\n\u001b[0;32m     63\u001b[0m filtered_tb \u001b[39m=\u001b[39m \u001b[39mNone\u001b[39;00m\n\u001b[0;32m     64\u001b[0m \u001b[39mtry\u001b[39;00m:\n\u001b[1;32m---> 65\u001b[0m     \u001b[39mreturn\u001b[39;00m fn(\u001b[39m*\u001b[39margs, \u001b[39m*\u001b[39m\u001b[39m*\u001b[39mkwargs)\n\u001b[0;32m     66\u001b[0m \u001b[39mexcept\u001b[39;00m \u001b[39mException\u001b[39;00m \u001b[39mas\u001b[39;00m e:\n\u001b[0;32m     67\u001b[0m     filtered_tb \u001b[39m=\u001b[39m _process_traceback_frames(e\u001b[39m.\u001b[39m__traceback__)\n",
      "File \u001b[1;32mc:\\Users\\Abraham Audu\\Documents\\BizDocs Files\\THE THREE\\Intrusion Detection System\\ids_project\\venv\\lib\\site-packages\\keras\\engine\\training.py:1564\u001b[0m, in \u001b[0;36mModel.fit\u001b[1;34m(self, x, y, batch_size, epochs, verbose, callbacks, validation_split, validation_data, shuffle, class_weight, sample_weight, initial_epoch, steps_per_epoch, validation_steps, validation_batch_size, validation_freq, max_queue_size, workers, use_multiprocessing)\u001b[0m\n\u001b[0;32m   1556\u001b[0m \u001b[39mwith\u001b[39;00m tf\u001b[39m.\u001b[39mprofiler\u001b[39m.\u001b[39mexperimental\u001b[39m.\u001b[39mTrace(\n\u001b[0;32m   1557\u001b[0m     \u001b[39m\"\u001b[39m\u001b[39mtrain\u001b[39m\u001b[39m\"\u001b[39m,\n\u001b[0;32m   1558\u001b[0m     epoch_num\u001b[39m=\u001b[39mepoch,\n\u001b[1;32m   (...)\u001b[0m\n\u001b[0;32m   1561\u001b[0m     _r\u001b[39m=\u001b[39m\u001b[39m1\u001b[39m,\n\u001b[0;32m   1562\u001b[0m ):\n\u001b[0;32m   1563\u001b[0m     callbacks\u001b[39m.\u001b[39mon_train_batch_begin(step)\n\u001b[1;32m-> 1564\u001b[0m     tmp_logs \u001b[39m=\u001b[39m \u001b[39mself\u001b[39;49m\u001b[39m.\u001b[39;49mtrain_function(iterator)\n\u001b[0;32m   1565\u001b[0m     \u001b[39mif\u001b[39;00m data_handler\u001b[39m.\u001b[39mshould_sync:\n\u001b[0;32m   1566\u001b[0m         context\u001b[39m.\u001b[39masync_wait()\n",
      "File \u001b[1;32mc:\\Users\\Abraham Audu\\Documents\\BizDocs Files\\THE THREE\\Intrusion Detection System\\ids_project\\venv\\lib\\site-packages\\tensorflow\\python\\util\\traceback_utils.py:150\u001b[0m, in \u001b[0;36mfilter_traceback.<locals>.error_handler\u001b[1;34m(*args, **kwargs)\u001b[0m\n\u001b[0;32m    148\u001b[0m filtered_tb \u001b[39m=\u001b[39m \u001b[39mNone\u001b[39;00m\n\u001b[0;32m    149\u001b[0m \u001b[39mtry\u001b[39;00m:\n\u001b[1;32m--> 150\u001b[0m   \u001b[39mreturn\u001b[39;00m fn(\u001b[39m*\u001b[39margs, \u001b[39m*\u001b[39m\u001b[39m*\u001b[39mkwargs)\n\u001b[0;32m    151\u001b[0m \u001b[39mexcept\u001b[39;00m \u001b[39mException\u001b[39;00m \u001b[39mas\u001b[39;00m e:\n\u001b[0;32m    152\u001b[0m   filtered_tb \u001b[39m=\u001b[39m _process_traceback_frames(e\u001b[39m.\u001b[39m__traceback__)\n",
      "File \u001b[1;32mc:\\Users\\Abraham Audu\\Documents\\BizDocs Files\\THE THREE\\Intrusion Detection System\\ids_project\\venv\\lib\\site-packages\\tensorflow\\python\\eager\\def_function.py:915\u001b[0m, in \u001b[0;36mFunction.__call__\u001b[1;34m(self, *args, **kwds)\u001b[0m\n\u001b[0;32m    912\u001b[0m compiler \u001b[39m=\u001b[39m \u001b[39m\"\u001b[39m\u001b[39mxla\u001b[39m\u001b[39m\"\u001b[39m \u001b[39mif\u001b[39;00m \u001b[39mself\u001b[39m\u001b[39m.\u001b[39m_jit_compile \u001b[39melse\u001b[39;00m \u001b[39m\"\u001b[39m\u001b[39mnonXla\u001b[39m\u001b[39m\"\u001b[39m\n\u001b[0;32m    914\u001b[0m \u001b[39mwith\u001b[39;00m OptionalXlaContext(\u001b[39mself\u001b[39m\u001b[39m.\u001b[39m_jit_compile):\n\u001b[1;32m--> 915\u001b[0m   result \u001b[39m=\u001b[39m \u001b[39mself\u001b[39m\u001b[39m.\u001b[39m_call(\u001b[39m*\u001b[39margs, \u001b[39m*\u001b[39m\u001b[39m*\u001b[39mkwds)\n\u001b[0;32m    917\u001b[0m new_tracing_count \u001b[39m=\u001b[39m \u001b[39mself\u001b[39m\u001b[39m.\u001b[39mexperimental_get_tracing_count()\n\u001b[0;32m    918\u001b[0m without_tracing \u001b[39m=\u001b[39m (tracing_count \u001b[39m==\u001b[39m new_tracing_count)\n",
      "File \u001b[1;32mc:\\Users\\Abraham Audu\\Documents\\BizDocs Files\\THE THREE\\Intrusion Detection System\\ids_project\\venv\\lib\\site-packages\\tensorflow\\python\\eager\\def_function.py:947\u001b[0m, in \u001b[0;36mFunction._call\u001b[1;34m(self, *args, **kwds)\u001b[0m\n\u001b[0;32m    944\u001b[0m   \u001b[39mself\u001b[39m\u001b[39m.\u001b[39m_lock\u001b[39m.\u001b[39mrelease()\n\u001b[0;32m    945\u001b[0m   \u001b[39m# In this case we have created variables on the first call, so we run the\u001b[39;00m\n\u001b[0;32m    946\u001b[0m   \u001b[39m# defunned version which is guaranteed to never create variables.\u001b[39;00m\n\u001b[1;32m--> 947\u001b[0m   \u001b[39mreturn\u001b[39;00m \u001b[39mself\u001b[39m\u001b[39m.\u001b[39m_stateless_fn(\u001b[39m*\u001b[39margs, \u001b[39m*\u001b[39m\u001b[39m*\u001b[39mkwds)  \u001b[39m# pylint: disable=not-callable\u001b[39;00m\n\u001b[0;32m    948\u001b[0m \u001b[39melif\u001b[39;00m \u001b[39mself\u001b[39m\u001b[39m.\u001b[39m_stateful_fn \u001b[39mis\u001b[39;00m \u001b[39mnot\u001b[39;00m \u001b[39mNone\u001b[39;00m:\n\u001b[0;32m    949\u001b[0m   \u001b[39m# Release the lock early so that multiple threads can perform the call\u001b[39;00m\n\u001b[0;32m    950\u001b[0m   \u001b[39m# in parallel.\u001b[39;00m\n\u001b[0;32m    951\u001b[0m   \u001b[39mself\u001b[39m\u001b[39m.\u001b[39m_lock\u001b[39m.\u001b[39mrelease()\n",
      "File \u001b[1;32mc:\\Users\\Abraham Audu\\Documents\\BizDocs Files\\THE THREE\\Intrusion Detection System\\ids_project\\venv\\lib\\site-packages\\tensorflow\\python\\eager\\function.py:2496\u001b[0m, in \u001b[0;36mFunction.__call__\u001b[1;34m(self, *args, **kwargs)\u001b[0m\n\u001b[0;32m   2493\u001b[0m \u001b[39mwith\u001b[39;00m \u001b[39mself\u001b[39m\u001b[39m.\u001b[39m_lock:\n\u001b[0;32m   2494\u001b[0m   (graph_function,\n\u001b[0;32m   2495\u001b[0m    filtered_flat_args) \u001b[39m=\u001b[39m \u001b[39mself\u001b[39m\u001b[39m.\u001b[39m_maybe_define_function(args, kwargs)\n\u001b[1;32m-> 2496\u001b[0m \u001b[39mreturn\u001b[39;00m graph_function\u001b[39m.\u001b[39;49m_call_flat(\n\u001b[0;32m   2497\u001b[0m     filtered_flat_args, captured_inputs\u001b[39m=\u001b[39;49mgraph_function\u001b[39m.\u001b[39;49mcaptured_inputs)\n",
      "File \u001b[1;32mc:\\Users\\Abraham Audu\\Documents\\BizDocs Files\\THE THREE\\Intrusion Detection System\\ids_project\\venv\\lib\\site-packages\\tensorflow\\python\\eager\\function.py:1862\u001b[0m, in \u001b[0;36mConcreteFunction._call_flat\u001b[1;34m(self, args, captured_inputs, cancellation_manager)\u001b[0m\n\u001b[0;32m   1858\u001b[0m possible_gradient_type \u001b[39m=\u001b[39m gradients_util\u001b[39m.\u001b[39mPossibleTapeGradientTypes(args)\n\u001b[0;32m   1859\u001b[0m \u001b[39mif\u001b[39;00m (possible_gradient_type \u001b[39m==\u001b[39m gradients_util\u001b[39m.\u001b[39mPOSSIBLE_GRADIENT_TYPES_NONE\n\u001b[0;32m   1860\u001b[0m     \u001b[39mand\u001b[39;00m executing_eagerly):\n\u001b[0;32m   1861\u001b[0m   \u001b[39m# No tape is watching; skip to running the function.\u001b[39;00m\n\u001b[1;32m-> 1862\u001b[0m   \u001b[39mreturn\u001b[39;00m \u001b[39mself\u001b[39m\u001b[39m.\u001b[39m_build_call_outputs(\u001b[39mself\u001b[39;49m\u001b[39m.\u001b[39;49m_inference_function\u001b[39m.\u001b[39;49mcall(\n\u001b[0;32m   1863\u001b[0m       ctx, args, cancellation_manager\u001b[39m=\u001b[39;49mcancellation_manager))\n\u001b[0;32m   1864\u001b[0m forward_backward \u001b[39m=\u001b[39m \u001b[39mself\u001b[39m\u001b[39m.\u001b[39m_select_forward_and_backward_functions(\n\u001b[0;32m   1865\u001b[0m     args,\n\u001b[0;32m   1866\u001b[0m     possible_gradient_type,\n\u001b[0;32m   1867\u001b[0m     executing_eagerly)\n\u001b[0;32m   1868\u001b[0m forward_function, args_with_tangents \u001b[39m=\u001b[39m forward_backward\u001b[39m.\u001b[39mforward()\n",
      "File \u001b[1;32mc:\\Users\\Abraham Audu\\Documents\\BizDocs Files\\THE THREE\\Intrusion Detection System\\ids_project\\venv\\lib\\site-packages\\tensorflow\\python\\eager\\function.py:499\u001b[0m, in \u001b[0;36m_EagerDefinedFunction.call\u001b[1;34m(self, ctx, args, cancellation_manager)\u001b[0m\n\u001b[0;32m    497\u001b[0m \u001b[39mwith\u001b[39;00m _InterpolateFunctionError(\u001b[39mself\u001b[39m):\n\u001b[0;32m    498\u001b[0m   \u001b[39mif\u001b[39;00m cancellation_manager \u001b[39mis\u001b[39;00m \u001b[39mNone\u001b[39;00m:\n\u001b[1;32m--> 499\u001b[0m     outputs \u001b[39m=\u001b[39m execute\u001b[39m.\u001b[39;49mexecute(\n\u001b[0;32m    500\u001b[0m         \u001b[39mstr\u001b[39;49m(\u001b[39mself\u001b[39;49m\u001b[39m.\u001b[39;49msignature\u001b[39m.\u001b[39;49mname),\n\u001b[0;32m    501\u001b[0m         num_outputs\u001b[39m=\u001b[39;49m\u001b[39mself\u001b[39;49m\u001b[39m.\u001b[39;49m_num_outputs,\n\u001b[0;32m    502\u001b[0m         inputs\u001b[39m=\u001b[39;49margs,\n\u001b[0;32m    503\u001b[0m         attrs\u001b[39m=\u001b[39;49mattrs,\n\u001b[0;32m    504\u001b[0m         ctx\u001b[39m=\u001b[39;49mctx)\n\u001b[0;32m    505\u001b[0m   \u001b[39melse\u001b[39;00m:\n\u001b[0;32m    506\u001b[0m     outputs \u001b[39m=\u001b[39m execute\u001b[39m.\u001b[39mexecute_with_cancellation(\n\u001b[0;32m    507\u001b[0m         \u001b[39mstr\u001b[39m(\u001b[39mself\u001b[39m\u001b[39m.\u001b[39msignature\u001b[39m.\u001b[39mname),\n\u001b[0;32m    508\u001b[0m         num_outputs\u001b[39m=\u001b[39m\u001b[39mself\u001b[39m\u001b[39m.\u001b[39m_num_outputs,\n\u001b[1;32m   (...)\u001b[0m\n\u001b[0;32m    511\u001b[0m         ctx\u001b[39m=\u001b[39mctx,\n\u001b[0;32m    512\u001b[0m         cancellation_manager\u001b[39m=\u001b[39mcancellation_manager)\n",
      "File \u001b[1;32mc:\\Users\\Abraham Audu\\Documents\\BizDocs Files\\THE THREE\\Intrusion Detection System\\ids_project\\venv\\lib\\site-packages\\tensorflow\\python\\eager\\execute.py:54\u001b[0m, in \u001b[0;36mquick_execute\u001b[1;34m(op_name, num_outputs, inputs, attrs, ctx, name)\u001b[0m\n\u001b[0;32m     52\u001b[0m \u001b[39mtry\u001b[39;00m:\n\u001b[0;32m     53\u001b[0m   ctx\u001b[39m.\u001b[39mensure_initialized()\n\u001b[1;32m---> 54\u001b[0m   tensors \u001b[39m=\u001b[39m pywrap_tfe\u001b[39m.\u001b[39;49mTFE_Py_Execute(ctx\u001b[39m.\u001b[39;49m_handle, device_name, op_name,\n\u001b[0;32m     55\u001b[0m                                       inputs, attrs, num_outputs)\n\u001b[0;32m     56\u001b[0m \u001b[39mexcept\u001b[39;00m core\u001b[39m.\u001b[39m_NotOkStatusException \u001b[39mas\u001b[39;00m e:\n\u001b[0;32m     57\u001b[0m   \u001b[39mif\u001b[39;00m name \u001b[39mis\u001b[39;00m \u001b[39mnot\u001b[39;00m \u001b[39mNone\u001b[39;00m:\n",
      "\u001b[1;31mKeyboardInterrupt\u001b[0m: "
     ]
    }
   ],
   "source": [
    "# # Define the architecture of the neural network\n",
    "# blstm_model = Sequential()\n",
    "# blstm_model.add(LSTM(256, input_shape=(X_train_scaled.shape[1], 1), return_sequences=True))\n",
    "# blstm_model.add(LeakyReLU(alpha=0.5))\n",
    "# blstm_model.add(Bidirectional(LSTM(128, return_sequences=True)))\n",
    "# blstm_model.add(LeakyReLU(alpha=0.5))\n",
    "# blstm_model.add(Dropout(0.3))\n",
    "# blstm_model.add(Bidirectional(LSTM(64, return_sequences=False)))\n",
    "# blstm_model.add(Dropout(0.3))\n",
    "# blstm_model.add(Dense(1, activation='softmax'))\n",
    "\n",
    "# # Compile the model\n",
    "# learning_rate = 0.01\n",
    "# sgd_optimizer = tf.keras.optimizers.SGD(learning_rate=learning_rate)\n",
    "# blstm_model.compile(loss='categorical_crossentropy', optimizer=sgd_optimizer, metrics=['accuracy'])\n",
    "\n",
    "# # Train the FNN model\n",
    "# st = time.process_time()\n",
    "# blstm_model.fit(X_train_scaled, \n",
    "#                 y_train, \n",
    "#                 epochs=epochs, \n",
    "#                 batch_size=batch_size,\n",
    "#                 validation_split=0.1, \n",
    "#                 callbacks=[EarlyStopping(patience=2)])\n",
    "# blstm_train_time = time.process_time() - st\n",
    "\n",
    "# # Save the model\n",
    "# blstm_model.save(models_dir+'blstm_model.h5')"
   ]
  },
  {
   "attachments": {},
   "cell_type": "markdown",
   "metadata": {},
   "source": [
    "CNN model"
   ]
  },
  {
   "cell_type": "code",
   "execution_count": 24,
   "metadata": {},
   "outputs": [],
   "source": [
    "# # Define the architecture of the neural network\n",
    "# cnn_model = Sequential()\n",
    "# cnn_model.add(Conv1D(16, kernel_size=3, activation='relu', input_shape=(X_train_scaled.shape[1], 1)))\n",
    "# cnn_model.add(MaxPooling1D(pool_size=2))\n",
    "# cnn_model.add(Flatten())\n",
    "# cnn_model.add(Dense(32, activation='relu'))\n",
    "# cnn_model.add(Dropout(0.5))\n",
    "# cnn_model.add(Dense(num_classes, activation='softmax'))\n",
    "\n",
    "# # Compile the model\n",
    "# learning_rate = 0.001\n",
    "# adam_optimizer = tf.keras.optimizers.Adam(learning_rate=learning_rate)\n",
    "# cnn_model.compile(loss='categorical_crossentropy', optimizer=adam_optimizer, metrics=['accuracy'])\n",
    "\n",
    "# # Train the FNN model\n",
    "# st = time.process_time()\n",
    "# cnn_model.fit(X_train_scaled, \n",
    "#                 y_train, \n",
    "#                 epochs=epochs, \n",
    "#                 batch_size=64,\n",
    "#                 validation_split=0.1, \n",
    "#                 callbacks=[EarlyStopping(patience=4)])\n",
    "# cnn_train_time = time.process_time() - st\n",
    "\n",
    "# # Save the model\n",
    "# cnn_model.save(models_dir+'cnn_model.h5')"
   ]
  },
  {
   "attachments": {},
   "cell_type": "markdown",
   "metadata": {},
   "source": [
    "BiLSTM-CNN Model"
   ]
  },
  {
   "cell_type": "code",
   "execution_count": 25,
   "metadata": {},
   "outputs": [],
   "source": [
    "# # Define the architecture of the neural network\n",
    "# bilstm_cnn_model = Sequential()\n",
    "# bilstm_cnn_model.add(Bidirectional(LSTM(64, return_sequences=True), input_shape=(X_train_scaled.shape[1], 1)))\n",
    "# bilstm_cnn_model.add(Conv1D(32, kernel_size=3, activation='relu'))\n",
    "# bilstm_cnn_model.add(MaxPooling1D(pool_size=2))\n",
    "# bilstm_cnn_model.add(Flatten())\n",
    "# bilstm_cnn_model.add(Dense(128, activation='relu'))\n",
    "# bilstm_cnn_model.add(Dropout(0.5))\n",
    "# bilstm_cnn_model.add(Dense(num_classes, activation='softmax'))\n",
    "\n",
    "# # Compile the model\n",
    "# learning_rate = 0.001\n",
    "# adam_optimizer = tf.keras.optimizers.Adam(learning_rate=learning_rate)\n",
    "# bilstm_cnn_model.compile(loss='categorical_crossentropy', optimizer=adam_optimizer, metrics=['accuracy'])\n",
    "\n",
    "# # Train the FNN model\n",
    "# st = time.process_time()\n",
    "# bilstm_cnn_model.fit(X_train_scaled, \n",
    "#                 y_train, \n",
    "#                 epochs=epochs, \n",
    "#                 batch_size=batch_size,\n",
    "#                 validation_split=0.1, \n",
    "#                 callbacks=[EarlyStopping(patience=2)])\n",
    "# bilstm_cnn_train_time = time.process_time() - st\n",
    "\n",
    "# # Save the model\n",
    "# bilstm_cnn_model.save(models_dir+'bilstm_cnn_model.h5')"
   ]
  },
  {
   "attachments": {},
   "cell_type": "markdown",
   "metadata": {},
   "source": [
    "#### Evaluate Models"
   ]
  },
  {
   "cell_type": "code",
   "execution_count": 15,
   "metadata": {},
   "outputs": [],
   "source": [
    "# Classification Report for each type of attack\n",
    "def print_f1_scores(y_true, y_pred):\n",
    "    report = classification_report(y_true, y_pred, output_dict=True)\n",
    "\n",
    "    for class_label, metric in report.items():\n",
    "        try:\n",
    "            f1_score_float = metric['f1-score']\n",
    "            print(f\"Class {class_label}: F1-score = {round(f1_score_float, 3)}\")\n",
    "        except:\n",
    "            pass"
   ]
  },
  {
   "cell_type": "code",
   "execution_count": 27,
   "metadata": {},
   "outputs": [
    {
     "name": "stdout",
     "output_type": "stream",
     "text": [
      "##----------GBC----------##\n",
      "Class 0.0: F1-score = 1.0\n",
      "Class 1.0: F1-score = 1.0\n",
      "Class 2.0: F1-score = 1.0\n",
      "Class 3.0: F1-score = 0.995\n",
      "Class 4.0: F1-score = 1.0\n",
      "Class 5.0: F1-score = 1.0\n",
      "Class 6.0: F1-score = 1.0\n",
      "Class 7.0: F1-score = 1.0\n",
      "Class 8.0: F1-score = 1.0\n",
      "Class 9.0: F1-score = 1.0\n",
      "Class 10.0: F1-score = 0.977\n",
      "Class macro avg: F1-score = 0.997\n",
      "Class weighted avg: F1-score = 1.0\n",
      "\n",
      "##----------LGB----------##\n"
     ]
    },
    {
     "name": "stderr",
     "output_type": "stream",
     "text": [
      "c:\\Users\\Abraham Audu\\Documents\\BizDocs Files\\THE THREE\\Intrusion Detection System\\ids_project\\venv\\lib\\site-packages\\sklearn\\metrics\\_classification.py:1344: UndefinedMetricWarning: Precision and F-score are ill-defined and being set to 0.0 in labels with no predicted samples. Use `zero_division` parameter to control this behavior.\n",
      "  _warn_prf(average, modifier, msg_start, len(result))\n",
      "c:\\Users\\Abraham Audu\\Documents\\BizDocs Files\\THE THREE\\Intrusion Detection System\\ids_project\\venv\\lib\\site-packages\\sklearn\\metrics\\_classification.py:1344: UndefinedMetricWarning: Precision and F-score are ill-defined and being set to 0.0 in labels with no predicted samples. Use `zero_division` parameter to control this behavior.\n",
      "  _warn_prf(average, modifier, msg_start, len(result))\n",
      "c:\\Users\\Abraham Audu\\Documents\\BizDocs Files\\THE THREE\\Intrusion Detection System\\ids_project\\venv\\lib\\site-packages\\sklearn\\metrics\\_classification.py:1344: UndefinedMetricWarning: Precision and F-score are ill-defined and being set to 0.0 in labels with no predicted samples. Use `zero_division` parameter to control this behavior.\n",
      "  _warn_prf(average, modifier, msg_start, len(result))\n"
     ]
    },
    {
     "name": "stdout",
     "output_type": "stream",
     "text": [
      "Class 0.0: F1-score = 0.938\n",
      "Class 1.0: F1-score = 0.987\n",
      "Class 2.0: F1-score = 0.925\n",
      "Class 3.0: F1-score = 0.0\n",
      "Class 4.0: F1-score = 0.0\n",
      "Class 5.0: F1-score = 0.807\n",
      "Class 6.0: F1-score = 0.917\n",
      "Class 7.0: F1-score = 0.912\n",
      "Class 8.0: F1-score = 0.56\n",
      "Class 9.0: F1-score = 0.708\n",
      "Class 10.0: F1-score = 0.0\n",
      "Class macro avg: F1-score = 0.614\n",
      "Class weighted avg: F1-score = 0.914\n",
      "\n",
      "##----------SVM----------##\n",
      "Class 0.0: F1-score = 0.999\n",
      "Class 1.0: F1-score = 1.0\n",
      "Class 2.0: F1-score = 1.0\n",
      "Class 3.0: F1-score = 0.995\n",
      "Class 4.0: F1-score = 1.0\n",
      "Class 5.0: F1-score = 0.996\n",
      "Class 6.0: F1-score = 1.0\n",
      "Class 7.0: F1-score = 0.998\n",
      "Class 8.0: F1-score = 1.0\n",
      "Class 9.0: F1-score = 0.998\n",
      "Class 10.0: F1-score = 0.985\n",
      "Class macro avg: F1-score = 0.997\n",
      "Class weighted avg: F1-score = 0.999\n",
      "\n",
      "##----------XGB----------##\n",
      "Class 0.0: F1-score = 1.0\n",
      "Class 1.0: F1-score = 1.0\n",
      "Class 2.0: F1-score = 1.0\n",
      "Class 3.0: F1-score = 0.995\n",
      "Class 4.0: F1-score = 1.0\n",
      "Class 5.0: F1-score = 1.0\n",
      "Class 6.0: F1-score = 1.0\n",
      "Class 7.0: F1-score = 1.0\n",
      "Class 8.0: F1-score = 1.0\n",
      "Class 9.0: F1-score = 0.999\n",
      "Class 10.0: F1-score = 0.973\n",
      "Class macro avg: F1-score = 0.997\n",
      "Class weighted avg: F1-score = 1.0\n"
     ]
    }
   ],
   "source": [
    "# GBC Predictions\n",
    "st = time.process_time()\n",
    "gbc_preds = gbc_model.predict(X_test_scaled)\n",
    "gbc_inf_time = time.process_time() - st\n",
    "\n",
    "# LGB Predictions\n",
    "st = time.process_time()\n",
    "lgb_preds = lgb_model.predict(X_test_scaled)\n",
    "lgb_preds = [pred.argmax() for pred in lgb_preds]\n",
    "lgb_inf_time = time.process_time() - st\n",
    "\n",
    "# SVM Predictions\n",
    "st = time.process_time()\n",
    "svm_preds = svm_model.predict(X_test_scaled)\n",
    "svm_inf_time = time.process_time() - st\n",
    "\n",
    "# XGB Predictions\n",
    "st = time.process_time()\n",
    "dtest = xgb.DMatrix(X_test_scaled)\n",
    "xgb_preds = xgb_model.predict(dtest)\n",
    "xgb_inf_time = time.process_time() - st\n",
    "\n",
    "# # FNN Predictions\n",
    "# st = time.process_time()\n",
    "# fnn_preds = fnn_model.predict(X_test_scaled)\n",
    "# fnn_inf_time = time.process_time() - st\n",
    "\n",
    "# # BiLSTM Predictions\n",
    "# st = time.process_time()\n",
    "# blstm_preds = blstm_model.predict(X_test_scaled)\n",
    "# blstm_inf_time = time.process_time() - st\n",
    "\n",
    "# # CNN Predictions\n",
    "# st = time.process_time()\n",
    "# cnn_preds = cnn_model.predict(X_test_scaled)\n",
    "# cnn_inf_time = time.process_time() - st\n",
    "\n",
    "# # BiLSTM-cNN Predictions\n",
    "# st = time.process_time()\n",
    "# bilstm_cnn_preds = bilstm_cnn_model.predict(X_test_scaled)\n",
    "# bilstm_cnn_inf_time = time.process_time() - st\n",
    "\n",
    "# Evaluate model (F1 Score)\n",
    "# GBC\n",
    "print('##----------GBC----------##')\n",
    "f1_score_gbc = round(f1_score(y_test, gbc_preds, average='macro'), 3)\n",
    "print_f1_scores(y_test, gbc_preds)\n",
    "# LGB\n",
    "print('\\n##----------LGB----------##')\n",
    "f1_score_lgb = round(f1_score(y_test, lgb_preds, average='macro'), 3)\n",
    "print_f1_scores(y_test, lgb_preds)\n",
    "# SVM\n",
    "print('\\n##----------SVM----------##')\n",
    "f1_score_svm = round(f1_score(y_test, svm_preds, average='macro'), 3)\n",
    "print_f1_scores(y_test, svm_preds)\n",
    "# XGB\n",
    "print('\\n##----------XGB----------##')\n",
    "f1_score_xgb = round(f1_score(y_test, xgb_preds, average='macro'), 3)\n",
    "print_f1_scores(y_test, xgb_preds)\n",
    "\n",
    "\n",
    "# # FNN\n",
    "# print('\\n##----------FNN----------##')\n",
    "# f1_score_fnn = round(f1_score(y_test, fnn_preds, average='macro'), 3)\n",
    "# print_f1_scores(y_test, fnn_preds)\n",
    "# # BiLSTM\n",
    "# print('\\n##----------BiLSTM----------##')\n",
    "# f1_score_blstm = round(f1_score(y_test, blstm_preds, average='macro'), 3)\n",
    "# print_f1_scores(y_test, blstm_preds)\n",
    "# # CNN\n",
    "# print('\\n##----------CNN----------##')\n",
    "# f1_score_cnn = round(f1_score(y_test, cnn_preds, average='macro'), 3)\n",
    "# print_f1_scores(y_test, cnn_preds)\n",
    "# # BiLSTM-CNN\n",
    "# print('\\n##----------BiLSTM-CNN----------##')\n",
    "# f1_score_bilstm_cnn = round(f1_score(y_test, bilstm_cnn_preds, average='macro'), 3)\n",
    "# print_f1_scores(y_test, bilstm_cnn_preds)"
   ]
  },
  {
   "cell_type": "code",
   "execution_count": 28,
   "metadata": {},
   "outputs": [],
   "source": [
    "# Save metrics\n",
    "metrics = {\n",
    "    'F1-Scores': {\n",
    "        'F1_GBC':f1_score_gbc,\n",
    "        'F1_LGB':f1_score_lgb,\n",
    "        'F1_SVM':f1_score_svm,\n",
    "        'F1_XGB':f1_score_xgb,\n",
    "        # 'F1_FNN':f1_score_fnn,\n",
    "        # 'F1_BiLSTM':f1_score_blstm,\n",
    "        # 'F1_CNN':f1_score_cnn,\n",
    "        # 'F1_BiLSTM_CNN':f1_score_bilstm_cnn\n",
    "    },\n",
    "\n",
    "    'Train_times': {\n",
    "        'tt_GBC': gbc_train_time,\n",
    "        'tt_LGB': lgb_train_time,\n",
    "        'tt_SVM': svm_train_time,\n",
    "        'tt_XGB': xgb_train_time,\n",
    "        # 'tt_FNN': fnn_train_time,\n",
    "        # 'tt_BiLSTM':blstm_train_time,\n",
    "        # 'tt_CNN':cnn_train_time,\n",
    "        # 'tt_BiLSTM_CNN':bilstm_cnn_train_time\n",
    "    },\n",
    "\n",
    "    'Inference_times': {\n",
    "        'it_GBC': gbc_inf_time,\n",
    "        'it_LGB': lgb_inf_time,\n",
    "        'it_SVM': svm_inf_time,\n",
    "        'it_XGB': xgb_inf_time,\n",
    "    #     'it_FNN': fnn_inf_time,\n",
    "    #     'it_BiLSTM': blstm_inf_time,\n",
    "    #     'it_CNN': cnn_inf_time,\n",
    "    #     'it_BiLSTM_CNN': bilstm_cnn_inf_time\n",
    "    }\n",
    "}\n",
    "\n",
    "json.dump(\n",
    "    obj=metrics,\n",
    "    fp=open('./notebooks/exp_metrics_all.json', 'w'),\n",
    "    indent = 4,\n",
    "    sort_keys = True\n",
    "    )\n",
    "\n"
   ]
  },
  {
   "cell_type": "code",
   "execution_count": 29,
   "metadata": {},
   "outputs": [
    {
     "data": {
      "text/plain": [
       "{'F1-Scores': {'F1_GBC': 0.997,\n",
       "  'F1_LGB': 0.614,\n",
       "  'F1_SVM': 0.997,\n",
       "  'F1_XGB': 0.997},\n",
       " 'Train_times': {'tt_GBC': 6436.265625,\n",
       "  'tt_LGB': 281.5,\n",
       "  'tt_SVM': 163.015625,\n",
       "  'tt_XGB': 286.078125},\n",
       " 'Inference_times': {'it_GBC': 5.03125,\n",
       "  'it_LGB': 16.21875,\n",
       "  'it_SVM': 61.265625,\n",
       "  'it_XGB': 1.703125}}"
      ]
     },
     "execution_count": 29,
     "metadata": {},
     "output_type": "execute_result"
    }
   ],
   "source": [
    "metrics"
   ]
  },
  {
   "cell_type": "code",
   "execution_count": 30,
   "metadata": {},
   "outputs": [
    {
     "data": {
      "text/plain": [
       "'\\n$ dvc run -n run_model_exp -d notebooks/X_train_scaled.csv -d notebooks/X_test_scaled.csv -d notebooks/y_train.csv -d notebooks/y_test.csv -d notebooks/model_exp.ipynb -o notebooks/model.joblib -M notebooks/metrics.json papermill notebooks/model_exp.ipynb notebooks/model_exp_out.ipynb\\n'"
      ]
     },
     "execution_count": 30,
     "metadata": {},
     "output_type": "execute_result"
    }
   ],
   "source": [
    "# DVC command to run pipeline\n",
    "\"\"\"\n",
    "$ dvc run -n run_model_exp -d notebooks/X_train_scaled.csv -d notebooks/X_test_scaled.csv -d notebooks/y_train.csv -d notebooks/y_test.csv -d notebooks/model_exp.ipynb -o notebooks/model.joblib -M notebooks/metrics.json papermill notebooks/model_exp.ipynb notebooks/model_exp_out.ipynb\n",
    "\"\"\""
   ]
  },
  {
   "cell_type": "code",
   "execution_count": 31,
   "metadata": {},
   "outputs": [
    {
     "data": {
      "text/plain": [
       "'\\nbase:\\n  project: ids_model\\n\\ntrain:\\n  models_dir:\\n  model_fname: model.joblib\\n  params:\\n    random_state: 42\\n    lr: 0.01\\n    n_estimators: 75\\n    max_depth: 10\\n\\n'"
      ]
     },
     "execution_count": 31,
     "metadata": {},
     "output_type": "execute_result"
    }
   ],
   "source": [
    "\"\"\"\n",
    "\n",
    "stages:\n",
    "  one_stage_pipeline:\n",
    "    cmd: papermill notebooks/model_exp.ipynb notebooks/model_exp_out.ipynb\n",
    "    deps:\n",
    "    - notebooks/X_test_scaled.csv\n",
    "    - notebooks/X_train_scaled.csv\n",
    "    - notebooks/model_exp.ipynb\n",
    "    - notebooks/y_test.csv\n",
    "    - notebooks/y_train.csv\n",
    "    params:\n",
    "    - base\n",
    "    - train\n",
    "    outs:\n",
    "    - notebooks/model.joblib\n",
    "    metrics:\n",
    "    - notebooks/metrics.json:\n",
    "        cache: false\n",
    "    \n",
    "    \"\"\"\n",
    "\n",
    "\n",
    "\n",
    "\"\"\"\n",
    "base:\n",
    "  project: ids_model\n",
    "\n",
    "train:\n",
    "  models_dir:\n",
    "  model_fname: model.joblib\n",
    "  params:\n",
    "    random_state: 42\n",
    "    lr: 0.01\n",
    "    n_estimators: 75\n",
    "    max_depth: 10\n",
    "\n",
    "\"\"\""
   ]
  }
 ],
 "metadata": {
  "kernelspec": {
   "display_name": "venv",
   "language": "python",
   "name": "python3"
  },
  "language_info": {
   "codemirror_mode": {
    "name": "ipython",
    "version": 3
   },
   "file_extension": ".py",
   "mimetype": "text/x-python",
   "name": "python",
   "nbconvert_exporter": "python",
   "pygments_lexer": "ipython3",
   "version": "3.10.7"
  },
  "orig_nbformat": 4
 },
 "nbformat": 4,
 "nbformat_minor": 2
}
