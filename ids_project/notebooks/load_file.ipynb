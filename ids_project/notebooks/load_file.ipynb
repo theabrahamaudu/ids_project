{
 "cells": [
  {
   "attachments": {},
   "cell_type": "markdown",
   "metadata": {},
   "source": [
    "### Import Modules"
   ]
  },
  {
   "cell_type": "code",
   "execution_count": 1,
   "metadata": {},
   "outputs": [
    {
     "name": "stderr",
     "output_type": "stream",
     "text": [
      "WARNING: No libpcap provider available ! pcap won't be used\n"
     ]
    }
   ],
   "source": [
    "import pandas as pd\n",
    "from scapy.all import *\n",
    "from tqdm import tqdm"
   ]
  },
  {
   "attachments": {},
   "cell_type": "markdown",
   "metadata": {},
   "source": [
    "### Load Packets into dataframe"
   ]
  },
  {
   "cell_type": "code",
   "execution_count": 2,
   "metadata": {},
   "outputs": [],
   "source": [
    "# Read the pcapng file\n",
    "capture = rdpcap('../data/raw/http_request.pcapng')\n"
   ]
  },
  {
   "cell_type": "code",
   "execution_count": 3,
   "metadata": {},
   "outputs": [],
   "source": [
    "# Create an empty list to store the packets\n",
    "packets_list = []\n",
    "\n",
    "# Iterate over the packets\n",
    "for i in range(len(capture)):\n",
    "    # create empty packet dictionary\n",
    "    packet_data = {} \n",
    "    \n",
    "    # Extract the fields from the packet into dictionary\n",
    "    if IP in capture[i]:\n",
    "        packet_data.update({\n",
    "        'timestamp': capture[i].time,\n",
    "        'ip_version': capture[i][IP].version,\n",
    "        'ip_header_length': capture[i][IP].ihl,\n",
    "        'ip_dscp': capture[i][IP].tos,\n",
    "        'ip_ecn': capture[i][IP].flags,\n",
    "        'ip_total_length': capture[i][IP].len,\n",
    "        'ip_identification': capture[i][IP].id,\n",
    "        'ip_flags': capture[i][IP].flags,\n",
    "        'ip_fragment_offset': capture[i][IP].frag,\n",
    "        'ip_ttl': capture[i][IP].ttl,\n",
    "        'ip_protocol': capture[i][IP].proto,\n",
    "        'ip_header_checksum': capture[i][IP].chksum,\n",
    "        'ip_source_ip': capture[i][IP].src,\n",
    "        'ip_destination_ip': capture[i][IP].dst\n",
    "        })\n",
    "\n",
    "    if TCP in capture[i]:\n",
    "        packet_data.update({\n",
    "        'tcp_sport': capture[i][TCP].sport,\n",
    "        'tcp_dport': capture[i][TCP].dport,\n",
    "        'tcp_seq': capture[i][TCP].seq,\n",
    "        'tcp_ack': capture[i][TCP].ack,\n",
    "        'tcp_dataofs': capture[i][TCP].dataofs,\n",
    "        'tcp_flags': capture[i][TCP].flags,\n",
    "        'tcp_window': capture[i][TCP].window,\n",
    "        'tcp_chksum': capture[i][TCP].chksum,\n",
    "        'tcp_urgptr': capture[i][TCP].urgptr,\n",
    "        'tcp_options': capture[i][TCP].options\n",
    "        \n",
    "        })\n",
    "\n",
    "    if UDP in capture[i]:\n",
    "        packet_data.update({\n",
    "        'udp_sport': capture[i][UDP].sport,\n",
    "        'udp_dport': capture[i][UDP].dport,\n",
    "        'udp_len': capture[i][UDP].len,\n",
    "        'udp_chksum': capture[i][UDP].chksum\n",
    "        })\n",
    "    \n",
    "    # Append the dictionary to the list\n",
    "    packets_list.append(packet_data)\n",
    "\n",
    "    \n",
    "# Convert the list of packets into a dataframe\n",
    "packets_df = pd.DataFrame(packets_list) "
   ]
  },
  {
   "cell_type": "code",
   "execution_count": 4,
   "metadata": {},
   "outputs": [],
   "source": [
    "packets_df.head(900)"
   ]
  },
  {
   "cell_type": "code",
   "execution_count": 5,
   "metadata": {},
   "outputs": [],
   "source": [
    "packets_df.info()"
   ]
  },
  {
   "cell_type": "code",
   "execution_count": 6,
   "metadata": {},
   "outputs": [],
   "source": [
    "# save the parsed packets to csv file\n",
    "packets_df.to_csv('../data/interim/normal.csv')"
   ]
  },
  {
   "cell_type": "code",
   "execution_count": null,
   "metadata": {},
   "outputs": [],
   "source": []
  }
 ],
 "metadata": {
  "kernelspec": {
   "display_name": "venv",
   "language": "python",
   "name": "python3"
  },
  "language_info": {
   "codemirror_mode": {
    "name": "ipython",
    "version": 3
   },
   "file_extension": ".py",
   "mimetype": "text/x-python",
   "name": "python",
   "nbconvert_exporter": "python",
   "pygments_lexer": "ipython3",
   "version": "3.10.7"
  },
  "orig_nbformat": 4
 },
 "nbformat": 4,
 "nbformat_minor": 2
}
