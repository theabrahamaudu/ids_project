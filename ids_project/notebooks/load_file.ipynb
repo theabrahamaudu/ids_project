{
 "cells": [
  {
   "attachments": {},
   "cell_type": "markdown",
   "metadata": {},
   "source": [
    "### Import Modules"
   ]
  },
  {
   "cell_type": "code",
   "execution_count": 2,
   "metadata": {},
   "outputs": [
    {
     "name": "stderr",
     "output_type": "stream",
     "text": [
      "WARNING: No libpcap provider available ! pcap won't be used\n"
     ]
    }
   ],
   "source": [
    "import pandas as pd\n",
    "from scapy.all import *\n",
    "from tqdm import tqdm"
   ]
  },
  {
   "attachments": {},
   "cell_type": "markdown",
   "metadata": {},
   "source": [
    "### Load Packets into dataframe"
   ]
  },
  {
   "cell_type": "code",
   "execution_count": 2,
   "metadata": {},
   "outputs": [],
   "source": [
    "# Read the pcapng file\n",
    "capture = rdpcap('../data/raw/http_request.pcapng')\n"
   ]
  },
  {
   "cell_type": "code",
   "execution_count": 3,
   "metadata": {},
   "outputs": [],
   "source": [
    "# Create an empty list to store the packets\n",
    "packets_list = []\n",
    "\n",
    "# Iterate over the packets\n",
    "for i in range(len(capture)):\n",
    "    # create empty packet dictionary\n",
    "    packet_data = {} \n",
    "    \n",
    "    # Extract the fields from the packet into dictionary\n",
    "    if IP in capture[i]:\n",
    "        packet_data.update({\n",
    "        'timestamp': capture[i].time,\n",
    "        'ip_version': capture[i][IP].version,\n",
    "        'ip_header_length': capture[i][IP].ihl,\n",
    "        'ip_dscp': capture[i][IP].tos,\n",
    "        'ip_ecn': capture[i][IP].flags,\n",
    "        'ip_total_length': capture[i][IP].len,\n",
    "        'ip_identification': capture[i][IP].id,\n",
    "        'ip_flags': capture[i][IP].flags,\n",
    "        'ip_fragment_offset': capture[i][IP].frag,\n",
    "        'ip_ttl': capture[i][IP].ttl,\n",
    "        'ip_protocol': capture[i][IP].proto,\n",
    "        'ip_header_checksum': capture[i][IP].chksum,\n",
    "        'ip_source_ip': capture[i][IP].src,\n",
    "        'ip_destination_ip': capture[i][IP].dst\n",
    "        })\n",
    "\n",
    "    if TCP in capture[i]:\n",
    "        packet_data.update({\n",
    "        'tcp_sport': capture[i][TCP].sport,\n",
    "        'tcp_dport': capture[i][TCP].dport,\n",
    "        'tcp_seq': capture[i][TCP].seq,\n",
    "        'tcp_ack': capture[i][TCP].ack,\n",
    "        'tcp_dataofs': capture[i][TCP].dataofs,\n",
    "        'tcp_flags': capture[i][TCP].flags,\n",
    "        'tcp_window': capture[i][TCP].window,\n",
    "        'tcp_chksum': capture[i][TCP].chksum,\n",
    "        'tcp_urgptr': capture[i][TCP].urgptr,\n",
    "        'tcp_options': capture[i][TCP].options\n",
    "        \n",
    "        })\n",
    "\n",
    "    if UDP in capture[i]:\n",
    "        packet_data.update({\n",
    "        'udp_sport': capture[i][UDP].sport,\n",
    "        'udp_dport': capture[i][UDP].dport,\n",
    "        'udp_len': capture[i][UDP].len,\n",
    "        'udp_chksum': capture[i][UDP].chksum\n",
    "        })\n",
    "    \n",
    "    # Append the dictionary to the list\n",
    "    packets_list.append(packet_data)\n",
    "\n",
    "    \n",
    "# Convert the list of packets into a dataframe\n",
    "packets_df = pd.DataFrame(packets_list) "
   ]
  },
  {
   "cell_type": "code",
   "execution_count": 4,
   "metadata": {},
   "outputs": [],
   "source": [
    "packets_df.head(900)"
   ]
  },
  {
   "cell_type": "code",
   "execution_count": 5,
   "metadata": {},
   "outputs": [],
   "source": [
    "packets_df.info()"
   ]
  },
  {
   "cell_type": "code",
   "execution_count": 6,
   "metadata": {},
   "outputs": [],
   "source": [
    "# save the parsed packets to csv file\n",
    "packets_df.to_csv('../data/interim/normal.csv')"
   ]
  },
  {
   "attachments": {},
   "cell_type": "markdown",
   "metadata": {},
   "source": [
    "## Explore dataset decription"
   ]
  },
  {
   "cell_type": "code",
   "execution_count": 3,
   "metadata": {},
   "outputs": [],
   "source": [
    "data_description = pd.read_excel('../data/external/dataset_description.xlsx', sheet_name='Files & description', header=2)"
   ]
  },
  {
   "cell_type": "code",
   "execution_count": 4,
   "metadata": {},
   "outputs": [
    {
     "name": "stderr",
     "output_type": "stream",
     "text": [
      "C:\\Users\\Abraham Audu\\AppData\\Local\\Temp\\ipykernel_27436\\533852751.py:1: FutureWarning: Calling int on a single element Series is deprecated and will raise a TypeError in the future. Use int(ser.iloc[0]) instead\n",
      "  int(data_description[data_description['File Name']=='benign-dec.pcap']['# Total Packets'])\n"
     ]
    },
    {
     "data": {
      "text/plain": [
       "137396"
      ]
     },
     "execution_count": 4,
     "metadata": {},
     "output_type": "execute_result"
    }
   ],
   "source": [
    "int(data_description[data_description['File Name']=='benign-dec.pcap']['# Total Packets'])\n"
   ]
  },
  {
   "cell_type": "code",
   "execution_count": 7,
   "metadata": {},
   "outputs": [
    {
     "name": "stdout",
     "output_type": "stream",
     "text": [
      "Python 3.10.7\n"
     ]
    }
   ],
   "source": [
    "!python --version"
   ]
  },
  {
   "cell_type": "code",
   "execution_count": 15,
   "metadata": {},
   "outputs": [
    {
     "data": {
      "text/plain": [
       "'http_request.pcapng'"
      ]
     },
     "execution_count": 15,
     "metadata": {},
     "output_type": "execute_result"
    }
   ],
   "source": [
    "import re\n",
    "path = '../data/raw/http_request.pcapng'\n",
    "re.search(r'[^/]+$', path).group(0)"
   ]
  },
  {
   "cell_type": "code",
   "execution_count": 1,
   "metadata": {},
   "outputs": [
    {
     "name": "stdout",
     "output_type": "stream",
     "text": [
      "Collecting pypcapkit\n",
      "  Downloading pypcapkit-1.0.2.post5-cp310-none-any.whl (733 kB)\n",
      "                                              0.0/733.8 kB ? eta -:--:--\n",
      "     -                                        30.7/733.8 kB ? eta -:--:--\n",
      "     --                                    41.0/733.8 kB 393.8 kB/s eta 0:00:02\n",
      "     ---                                   61.4/733.8 kB 465.5 kB/s eta 0:00:02\n",
      "     -----                                112.6/733.8 kB 652.2 kB/s eta 0:00:01\n",
      "     ------                               122.9/733.8 kB 514.3 kB/s eta 0:00:02\n",
      "     --------                             174.1/733.8 kB 655.4 kB/s eta 0:00:01\n",
      "     ------------                         245.8/733.8 kB 793.0 kB/s eta 0:00:01\n",
      "     ------------                         245.8/733.8 kB 793.0 kB/s eta 0:00:01\n",
      "     --------------                       286.7/733.8 kB 679.3 kB/s eta 0:00:01\n",
      "     ----------------                     337.9/733.8 kB 723.4 kB/s eta 0:00:01\n",
      "     ------------------                   368.6/733.8 kB 764.2 kB/s eta 0:00:01\n",
      "     --------------------                 409.6/733.8 kB 730.1 kB/s eta 0:00:01\n",
      "     ----------------------               450.6/733.8 kB 741.3 kB/s eta 0:00:01\n",
      "     ----------------------------         583.7/733.8 kB 894.6 kB/s eta 0:00:01\n",
      "     ---------------------------------    686.1/733.8 kB 982.3 kB/s eta 0:00:01\n",
      "     -------------------------------------  727.0/733.8 kB 1.0 MB/s eta 0:00:01\n",
      "     -------------------------------------  727.0/733.8 kB 1.0 MB/s eta 0:00:01\n",
      "     -------------------------------------  727.0/733.8 kB 1.0 MB/s eta 0:00:01\n",
      "     -------------------------------------  727.0/733.8 kB 1.0 MB/s eta 0:00:01\n",
      "     ------------------------------------ 733.8/733.8 kB 784.8 kB/s eta 0:00:00\n",
      "Collecting dictdumper~=0.8.0 (from pypcapkit)\n",
      "  Downloading dictdumper-0.8.4.post2-py2.py3-none-any.whl (18 kB)\n",
      "Requirement already satisfied: chardet in c:\\users\\abraham audu\\documents\\bizdocs files\\the three\\intrusion detection system\\ids_project\\venv\\lib\\site-packages (from pypcapkit) (5.1.0)\n",
      "Collecting aenum (from pypcapkit)\n",
      "  Downloading aenum-3.1.12-py3-none-any.whl (131 kB)\n",
      "                                              0.0/131.8 kB ? eta -:--:--\n",
      "     -----------------------------------    122.9/131.8 kB 2.4 MB/s eta 0:00:01\n",
      "     -----------------------------------    122.9/131.8 kB 2.4 MB/s eta 0:00:01\n",
      "     ------------------------------------ 131.8/131.8 kB 972.7 kB/s eta 0:00:00\n",
      "Collecting tbtrim>=0.2.1 (from pypcapkit)\n",
      "  Downloading tbtrim-0.3.1-py2.py3-none-any.whl (4.4 kB)\n",
      "Installing collected packages: aenum, tbtrim, dictdumper, pypcapkit\n",
      "Successfully installed aenum-3.1.12 dictdumper-0.8.4.post2 pypcapkit-1.0.2.post5 tbtrim-0.3.1\n"
     ]
    }
   ],
   "source": [
    "!pip install pypcapkit"
   ]
  },
  {
   "cell_type": "code",
   "execution_count": 2,
   "metadata": {},
   "outputs": [],
   "source": [
    "from pcapkit import extract"
   ]
  },
  {
   "cell_type": "code",
   "execution_count": 6,
   "metadata": {},
   "outputs": [
    {
     "name": "stderr",
     "output_type": "stream",
     "text": [
      "c:\\Users\\Abraham Audu\\Documents\\BizDocs Files\\THE THREE\\Intrusion Detection System\\ids_project\\venv\\lib\\site-packages\\pyshark\\capture\\capture.py:177: UserWarning: The running eventloop has tasks but pyshark must set a new eventloop to continue. Existing tasks may not run.\n",
      "  warnings.warn(\"The running eventloop has tasks but pyshark must set a new eventloop to continue. \"\n"
     ]
    },
    {
     "ename": "RuntimeError",
     "evalue": "Cannot run the event loop while another loop is running",
     "output_type": "error",
     "traceback": [
      "\u001b[1;31m---------------------------------------------------------------------------\u001b[0m",
      "\u001b[1;31mRuntimeError\u001b[0m                              Traceback (most recent call last)",
      "Cell \u001b[1;32mIn[6], line 1\u001b[0m\n\u001b[1;32m----> 1\u001b[0m json_file \u001b[39m=\u001b[39m extract(fin\u001b[39m=\u001b[39;49m\u001b[39m'\u001b[39;49m\u001b[39m../data/external/scan-hostport-6-dec.pcap\u001b[39;49m\u001b[39m'\u001b[39;49m,\n\u001b[0;32m      2\u001b[0m                     fout\u001b[39m=\u001b[39;49m\u001b[39m'\u001b[39;49m\u001b[39m../data/interim/test.json\u001b[39;49m\u001b[39m'\u001b[39;49m,\n\u001b[0;32m      3\u001b[0m                     \u001b[39mformat\u001b[39;49m\u001b[39m=\u001b[39;49m\u001b[39m'\u001b[39;49m\u001b[39mjson\u001b[39;49m\u001b[39m'\u001b[39;49m,\n\u001b[0;32m      4\u001b[0m                     extension\u001b[39m=\u001b[39;49m\u001b[39mFalse\u001b[39;49;00m,\n\u001b[0;32m      5\u001b[0m                     verbose\u001b[39m=\u001b[39;49m\u001b[39mTrue\u001b[39;49;00m,\n\u001b[0;32m      6\u001b[0m                     engine\u001b[39m=\u001b[39;49m\u001b[39m'\u001b[39;49m\u001b[39mpyshark\u001b[39;49m\u001b[39m'\u001b[39;49m)\n",
      "File \u001b[1;32mc:\\Users\\Abraham Audu\\Documents\\BizDocs Files\\THE THREE\\Intrusion Detection System\\ids_project\\venv\\lib\\site-packages\\pcapkit\\interface\\core.py:117\u001b[0m, in \u001b[0;36mextract\u001b[1;34m(fin, fout, format, auto, extension, store, files, nofile, verbose, engine, layer, protocol, reassembly, strict, trace, trace_fout, trace_format, trace_byteorder, trace_nanosecond, ip, ipv4, ipv6, tcp)\u001b[0m\n\u001b[0;32m    114\u001b[0m \u001b[39mif\u001b[39;00m \u001b[39misinstance\u001b[39m(layer, \u001b[39mtype\u001b[39m) \u001b[39mand\u001b[39;00m \u001b[39missubclass\u001b[39m(layer, Protocol):\n\u001b[0;32m    115\u001b[0m     layer \u001b[39m=\u001b[39m (layer\u001b[39m.\u001b[39m__layer__ \u001b[39mor\u001b[39;00m \u001b[39m'\u001b[39m\u001b[39mnone\u001b[39m\u001b[39m'\u001b[39m)\u001b[39m.\u001b[39mlower()  \u001b[39m# type: ignore[assignment]\u001b[39;00m\n\u001b[1;32m--> 117\u001b[0m \u001b[39mreturn\u001b[39;00m Extractor(fin\u001b[39m=\u001b[39;49mfin, fout\u001b[39m=\u001b[39;49mfout, \u001b[39mformat\u001b[39;49m\u001b[39m=\u001b[39;49m\u001b[39mformat\u001b[39;49m,\n\u001b[0;32m    118\u001b[0m                  store\u001b[39m=\u001b[39;49mstore, files\u001b[39m=\u001b[39;49mfiles, nofile\u001b[39m=\u001b[39;49mnofile,\n\u001b[0;32m    119\u001b[0m                  auto\u001b[39m=\u001b[39;49mauto, verbose\u001b[39m=\u001b[39;49mverbose, extension\u001b[39m=\u001b[39;49mextension,\n\u001b[0;32m    120\u001b[0m                  engine\u001b[39m=\u001b[39;49mengine, layer\u001b[39m=\u001b[39;49mlayer, protocol\u001b[39m=\u001b[39;49mprotocol,  \u001b[39m# type: ignore[arg-type]\u001b[39;49;00m\n\u001b[0;32m    121\u001b[0m                  ip\u001b[39m=\u001b[39;49mip, ipv4\u001b[39m=\u001b[39;49mipv4, ipv6\u001b[39m=\u001b[39;49mipv6, tcp\u001b[39m=\u001b[39;49mtcp, strict\u001b[39m=\u001b[39;49mstrict, reassembly\u001b[39m=\u001b[39;49mreassembly,\n\u001b[0;32m    122\u001b[0m                  trace\u001b[39m=\u001b[39;49mtrace, trace_fout\u001b[39m=\u001b[39;49mtrace_fout, trace_format\u001b[39m=\u001b[39;49mtrace_format,\n\u001b[0;32m    123\u001b[0m                  trace_byteorder\u001b[39m=\u001b[39;49mtrace_byteorder, trace_nanosecond\u001b[39m=\u001b[39;49mtrace_nanosecond)\n",
      "File \u001b[1;32mc:\\Users\\Abraham Audu\\Documents\\BizDocs Files\\THE THREE\\Intrusion Detection System\\ids_project\\venv\\lib\\site-packages\\pcapkit\\foundation\\extraction.py:635\u001b[0m, in \u001b[0;36mExtractor.__init__\u001b[1;34m(self, fin, fout, format, auto, extension, store, files, nofile, verbose, engine, layer, protocol, reassembly, strict, trace, trace_fout, trace_format, trace_byteorder, trace_nanosecond, ip, ipv4, ipv6, tcp)\u001b[0m\n\u001b[0;32m    632\u001b[0m \u001b[39mself\u001b[39m\u001b[39m.\u001b[39m_magic \u001b[39m=\u001b[39m \u001b[39mself\u001b[39m\u001b[39m.\u001b[39m_ifile\u001b[39m.\u001b[39mread(\u001b[39m4\u001b[39m)  \u001b[39m# magic number\u001b[39;00m\n\u001b[0;32m    633\u001b[0m \u001b[39mself\u001b[39m\u001b[39m.\u001b[39m_ifile\u001b[39m.\u001b[39mseek(\u001b[39m0\u001b[39m, os\u001b[39m.\u001b[39mSEEK_SET)\n\u001b[1;32m--> 635\u001b[0m \u001b[39mself\u001b[39;49m\u001b[39m.\u001b[39;49mrun()\n",
      "File \u001b[1;32mc:\\Users\\Abraham Audu\\Documents\\BizDocs Files\\THE THREE\\Intrusion Detection System\\ids_project\\venv\\lib\\site-packages\\pcapkit\\foundation\\extraction.py:319\u001b[0m, in \u001b[0;36mExtractor.run\u001b[1;34m(self)\u001b[0m\n\u001b[0;32m    316\u001b[0m     \u001b[39mself\u001b[39m\u001b[39m.\u001b[39m_exeng\u001b[39m.\u001b[39mrun()\n\u001b[0;32m    318\u001b[0m     \u001b[39m# start iteration\u001b[39;00m\n\u001b[1;32m--> 319\u001b[0m     \u001b[39mself\u001b[39;49m\u001b[39m.\u001b[39;49mrecord_frames()\n\u001b[0;32m    320\u001b[0m     \u001b[39mreturn\u001b[39;00m\n\u001b[0;32m    322\u001b[0m warn(\u001b[39mf\u001b[39m\u001b[39m'\u001b[39m\u001b[39mengine \u001b[39m\u001b[39m{\u001b[39;00meng\u001b[39m.\u001b[39mname()\u001b[39m}\u001b[39;00m\u001b[39m (`\u001b[39m\u001b[39m{\u001b[39;00meng\u001b[39m.\u001b[39mmodule()\u001b[39m}\u001b[39;00m\u001b[39m`) is not installed; \u001b[39m\u001b[39m'\u001b[39m\n\u001b[0;32m    323\u001b[0m      \u001b[39m'\u001b[39m\u001b[39musing default engine instead\u001b[39m\u001b[39m'\u001b[39m, EngineWarning, stacklevel\u001b[39m=\u001b[39mstacklevel())\n",
      "File \u001b[1;32mc:\\Users\\Abraham Audu\\Documents\\BizDocs Files\\THE THREE\\Intrusion Detection System\\ids_project\\venv\\lib\\site-packages\\pcapkit\\foundation\\extraction.py:490\u001b[0m, in \u001b[0;36mExtractor.record_frames\u001b[1;34m(self)\u001b[0m\n\u001b[0;32m    488\u001b[0m \u001b[39mwhile\u001b[39;00m \u001b[39mTrue\u001b[39;00m:\n\u001b[0;32m    489\u001b[0m     \u001b[39mtry\u001b[39;00m:\n\u001b[1;32m--> 490\u001b[0m         \u001b[39mself\u001b[39;49m\u001b[39m.\u001b[39;49m_exeng\u001b[39m.\u001b[39;49mread_frame()\n\u001b[0;32m    491\u001b[0m     \u001b[39mexcept\u001b[39;00m (\u001b[39mEOFError\u001b[39;00m, \u001b[39mStopIteration\u001b[39;00m):\n\u001b[0;32m    492\u001b[0m         \u001b[39m# quit when EOF\u001b[39;00m\n\u001b[0;32m    493\u001b[0m         \u001b[39mbreak\u001b[39;00m\n",
      "File \u001b[1;32mc:\\Users\\Abraham Audu\\Documents\\BizDocs Files\\THE THREE\\Intrusion Detection System\\ids_project\\venv\\lib\\site-packages\\pcapkit\\foundation\\engines\\pyshark.py:120\u001b[0m, in \u001b[0;36mPyShark.read_frame\u001b[1;34m(self)\u001b[0m\n\u001b[0;32m    117\u001b[0m ext \u001b[39m=\u001b[39m \u001b[39mself\u001b[39m\u001b[39m.\u001b[39m_extractor\n\u001b[0;32m    119\u001b[0m \u001b[39m# fetch PyShark packet\u001b[39;00m\n\u001b[1;32m--> 120\u001b[0m packet \u001b[39m=\u001b[39m cast(\u001b[39m'\u001b[39m\u001b[39mPySharkPacket\u001b[39m\u001b[39m'\u001b[39m, \u001b[39mself\u001b[39;49m\u001b[39m.\u001b[39;49m_extmp\u001b[39m.\u001b[39;49mnext())\n\u001b[0;32m    122\u001b[0m \u001b[39m# verbose output\u001b[39;00m\n\u001b[0;32m    123\u001b[0m ext\u001b[39m.\u001b[39m_frnum \u001b[39m=\u001b[39m \u001b[39mint\u001b[39m(packet\u001b[39m.\u001b[39mnumber)\n",
      "File \u001b[1;32mc:\\Users\\Abraham Audu\\Documents\\BizDocs Files\\THE THREE\\Intrusion Detection System\\ids_project\\venv\\lib\\site-packages\\pyshark\\capture\\file_capture.py:60\u001b[0m, in \u001b[0;36mFileCapture.next\u001b[1;34m(self)\u001b[0m\n\u001b[0;32m     55\u001b[0m \u001b[39m\u001b[39m\u001b[39m\"\"\"Returns the next packet in the cap.\u001b[39;00m\n\u001b[0;32m     56\u001b[0m \n\u001b[0;32m     57\u001b[0m \u001b[39mIf the capture's keep_packets flag is True, will also keep it in the internal packet list.\u001b[39;00m\n\u001b[0;32m     58\u001b[0m \u001b[39m\"\"\"\u001b[39;00m\n\u001b[0;32m     59\u001b[0m \u001b[39mif\u001b[39;00m \u001b[39mnot\u001b[39;00m \u001b[39mself\u001b[39m\u001b[39m.\u001b[39mkeep_packets:\n\u001b[1;32m---> 60\u001b[0m     \u001b[39mreturn\u001b[39;00m \u001b[39mself\u001b[39;49m\u001b[39m.\u001b[39;49m_packet_generator\u001b[39m.\u001b[39;49msend(\u001b[39mNone\u001b[39;49;00m)\n\u001b[0;32m     61\u001b[0m \u001b[39melif\u001b[39;00m \u001b[39mself\u001b[39m\u001b[39m.\u001b[39m_current_packet \u001b[39m>\u001b[39m\u001b[39m=\u001b[39m \u001b[39mlen\u001b[39m(\u001b[39mself\u001b[39m\u001b[39m.\u001b[39m_packets):\n\u001b[0;32m     62\u001b[0m     packet \u001b[39m=\u001b[39m \u001b[39mself\u001b[39m\u001b[39m.\u001b[39m_packet_generator\u001b[39m.\u001b[39msend(\u001b[39mNone\u001b[39;00m)\n",
      "File \u001b[1;32mc:\\Users\\Abraham Audu\\Documents\\BizDocs Files\\THE THREE\\Intrusion Detection System\\ids_project\\venv\\lib\\site-packages\\pyshark\\capture\\capture.py:212\u001b[0m, in \u001b[0;36mCapture._packets_from_tshark_sync\u001b[1;34m(self, packet_count, existing_process)\u001b[0m\n\u001b[0;32m    204\u001b[0m \u001b[39m\u001b[39m\u001b[39m\"\"\"Returns a generator of packets.\u001b[39;00m\n\u001b[0;32m    205\u001b[0m \n\u001b[0;32m    206\u001b[0m \u001b[39mThis is the sync version of packets_from_tshark. It wait for the completion of each coroutine and\u001b[39;00m\n\u001b[1;32m   (...)\u001b[0m\n\u001b[0;32m    209\u001b[0m \u001b[39m:param packet_count: If given, stops after this amount of packets is captured.\u001b[39;00m\n\u001b[0;32m    210\u001b[0m \u001b[39m\"\"\"\u001b[39;00m\n\u001b[0;32m    211\u001b[0m \u001b[39m# NOTE: This has code duplication with the async version, think about how to solve this\u001b[39;00m\n\u001b[1;32m--> 212\u001b[0m tshark_process \u001b[39m=\u001b[39m existing_process \u001b[39mor\u001b[39;00m \u001b[39mself\u001b[39;49m\u001b[39m.\u001b[39;49meventloop\u001b[39m.\u001b[39;49mrun_until_complete(\n\u001b[0;32m    213\u001b[0m     \u001b[39mself\u001b[39;49m\u001b[39m.\u001b[39;49m_get_tshark_process())\n\u001b[0;32m    214\u001b[0m parser \u001b[39m=\u001b[39m \u001b[39mself\u001b[39m\u001b[39m.\u001b[39m_setup_tshark_output_parser()\n\u001b[0;32m    215\u001b[0m packets_captured \u001b[39m=\u001b[39m \u001b[39m0\u001b[39m\n",
      "File \u001b[1;32mC:\\Program Files\\python310\\lib\\asyncio\\base_events.py:622\u001b[0m, in \u001b[0;36mBaseEventLoop.run_until_complete\u001b[1;34m(self, future)\u001b[0m\n\u001b[0;32m    611\u001b[0m \u001b[39m\u001b[39m\u001b[39m\"\"\"Run until the Future is done.\u001b[39;00m\n\u001b[0;32m    612\u001b[0m \n\u001b[0;32m    613\u001b[0m \u001b[39mIf the argument is a coroutine, it is wrapped in a Task.\u001b[39;00m\n\u001b[1;32m   (...)\u001b[0m\n\u001b[0;32m    619\u001b[0m \u001b[39mReturn the Future's result, or raise its exception.\u001b[39;00m\n\u001b[0;32m    620\u001b[0m \u001b[39m\"\"\"\u001b[39;00m\n\u001b[0;32m    621\u001b[0m \u001b[39mself\u001b[39m\u001b[39m.\u001b[39m_check_closed()\n\u001b[1;32m--> 622\u001b[0m \u001b[39mself\u001b[39;49m\u001b[39m.\u001b[39;49m_check_running()\n\u001b[0;32m    624\u001b[0m new_task \u001b[39m=\u001b[39m \u001b[39mnot\u001b[39;00m futures\u001b[39m.\u001b[39misfuture(future)\n\u001b[0;32m    625\u001b[0m future \u001b[39m=\u001b[39m tasks\u001b[39m.\u001b[39mensure_future(future, loop\u001b[39m=\u001b[39m\u001b[39mself\u001b[39m)\n",
      "File \u001b[1;32mC:\\Program Files\\python310\\lib\\asyncio\\base_events.py:584\u001b[0m, in \u001b[0;36mBaseEventLoop._check_running\u001b[1;34m(self)\u001b[0m\n\u001b[0;32m    582\u001b[0m     \u001b[39mraise\u001b[39;00m \u001b[39mRuntimeError\u001b[39;00m(\u001b[39m'\u001b[39m\u001b[39mThis event loop is already running\u001b[39m\u001b[39m'\u001b[39m)\n\u001b[0;32m    583\u001b[0m \u001b[39mif\u001b[39;00m events\u001b[39m.\u001b[39m_get_running_loop() \u001b[39mis\u001b[39;00m \u001b[39mnot\u001b[39;00m \u001b[39mNone\u001b[39;00m:\n\u001b[1;32m--> 584\u001b[0m     \u001b[39mraise\u001b[39;00m \u001b[39mRuntimeError\u001b[39;00m(\n\u001b[0;32m    585\u001b[0m         \u001b[39m'\u001b[39m\u001b[39mCannot run the event loop while another loop is running\u001b[39m\u001b[39m'\u001b[39m)\n",
      "\u001b[1;31mRuntimeError\u001b[0m: Cannot run the event loop while another loop is running"
     ]
    }
   ],
   "source": [
    "json_file = extract(fin='../data/external/scan-hostport-6-dec.pcap',\n",
    "                    fout='../data/interim/test.json',\n",
    "                    format='json',\n",
    "                    extension=False,\n",
    "                    verbose=True,\n",
    "                    engine='pyshark')"
   ]
  },
  {
   "cell_type": "code",
   "execution_count": 8,
   "metadata": {},
   "outputs": [],
   "source": [
    "import json\n",
    "data = open('../data/interim/test.json', 'r')\n",
    "data = json.load(data)"
   ]
  },
  {
   "cell_type": "code",
   "execution_count": 18,
   "metadata": {},
   "outputs": [
    {
     "data": {
      "text/plain": [
       "dict_keys(['hw_type', 'proto_type', 'hw_size', 'proto_size', 'opcode', 'src_hw_mac', 'src_proto_ipv4', 'dst_hw_mac', 'dst_proto_ipv4'])"
      ]
     },
     "execution_count": 18,
     "metadata": {},
     "output_type": "execute_result"
    }
   ],
   "source": [
    "data['Frame 4']['ETH']['ARP'].keys()"
   ]
  },
  {
   "cell_type": "code",
   "execution_count": null,
   "metadata": {},
   "outputs": [],
   "source": []
  }
 ],
 "metadata": {
  "kernelspec": {
   "display_name": "venv",
   "language": "python",
   "name": "python3"
  },
  "language_info": {
   "codemirror_mode": {
    "name": "ipython",
    "version": 3
   },
   "file_extension": ".py",
   "mimetype": "text/x-python",
   "name": "python",
   "nbconvert_exporter": "python",
   "pygments_lexer": "ipython3",
   "version": "3.10.7"
  },
  "orig_nbformat": 4
 },
 "nbformat": 4,
 "nbformat_minor": 2
}
